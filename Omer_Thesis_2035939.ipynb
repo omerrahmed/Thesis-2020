{
  "nbformat": 4,
  "nbformat_minor": 0,
  "metadata": {
    "kernelspec": {
      "display_name": "Python 3",
      "language": "python",
      "name": "python3"
    },
    "language_info": {
      "codemirror_mode": {
        "name": "ipython",
        "version": 3
      },
      "file_extension": ".py",
      "mimetype": "text/x-python",
      "name": "python",
      "nbconvert_exporter": "python",
      "pygments_lexer": "ipython3",
      "version": "3.7.1"
    },
    "colab": {
      "name": "Omer-Thesis-2035939.ipynb",
      "provenance": [],
      "collapsed_sections": [
        "DljRDkcFQLtD",
        "2qSrz_8oH9BX",
        "oo0hcMDxH9BX",
        "KUttIgBJH9BY",
        "bOFoOLj5P6rC",
        "2YXy6gLbH9Bb",
        "A5ju2_hlH9Bc",
        "kHM1RtQAH9Bc",
        "Spd7p-avH9Bd",
        "PwFEeRkHH9Bd",
        "gwp1cPa2H9Bd",
        "2X_39jsNH9Bd",
        "53jg9uvxH9Bd",
        "RMVkhLQlH9Be",
        "Q7F9YS4uH9Be",
        "PfGvn5LeH9Be",
        "Spz8QPI5H9Bf",
        "Lyku3w-HPROz",
        "8zvqvh_WH9Bg",
        "7JGM5TpCH9Bh",
        "bZ8A8f6SH9Bh",
        "BtTP5P0XH9Bh",
        "QfA_DwzwH9Bh",
        "WHr2HeA1H9Bh",
        "R5_GddhkH9Bh",
        "Y_j134OwH9Bh",
        "ltYXhmMcH9Bh"
      ]
    },
    "accelerator": "GPU"
  },
  "cells": [
    {
      "cell_type": "markdown",
      "metadata": {
        "id": "DljRDkcFQLtD"
      },
      "source": [
        "# 1-Preparing the ground"
      ]
    },
    {
      "cell_type": "code",
      "metadata": {
        "colab": {
          "base_uri": "https://localhost:8080/"
        },
        "id": "V1at_wlrQFrt",
        "outputId": "4dfbfce6-d442-4071-ab4d-e7f38a098f26"
      },
      "source": [
        "pip install --user -U nltk"
      ],
      "execution_count": 1,
      "outputs": [
        {
          "output_type": "stream",
          "text": [
            "Collecting nltk\n",
            "\u001b[?25l  Downloading https://files.pythonhosted.org/packages/92/75/ce35194d8e3022203cca0d2f896dbb88689f9b3fce8e9f9cff942913519d/nltk-3.5.zip (1.4MB)\n",
            "\r\u001b[K     |▎                               | 10kB 20.2MB/s eta 0:00:01\r\u001b[K     |▌                               | 20kB 27.5MB/s eta 0:00:01\r\u001b[K     |▊                               | 30kB 26.0MB/s eta 0:00:01\r\u001b[K     |█                               | 40kB 22.2MB/s eta 0:00:01\r\u001b[K     |█▏                              | 51kB 19.2MB/s eta 0:00:01\r\u001b[K     |█▍                              | 61kB 14.9MB/s eta 0:00:01\r\u001b[K     |█▋                              | 71kB 15.8MB/s eta 0:00:01\r\u001b[K     |█▉                              | 81kB 15.7MB/s eta 0:00:01\r\u001b[K     |██                              | 92kB 15.1MB/s eta 0:00:01\r\u001b[K     |██▎                             | 102kB 14.7MB/s eta 0:00:01\r\u001b[K     |██▌                             | 112kB 14.7MB/s eta 0:00:01\r\u001b[K     |██▊                             | 122kB 14.7MB/s eta 0:00:01\r\u001b[K     |███                             | 133kB 14.7MB/s eta 0:00:01\r\u001b[K     |███▏                            | 143kB 14.7MB/s eta 0:00:01\r\u001b[K     |███▍                            | 153kB 14.7MB/s eta 0:00:01\r\u001b[K     |███▋                            | 163kB 14.7MB/s eta 0:00:01\r\u001b[K     |███▉                            | 174kB 14.7MB/s eta 0:00:01\r\u001b[K     |████▏                           | 184kB 14.7MB/s eta 0:00:01\r\u001b[K     |████▍                           | 194kB 14.7MB/s eta 0:00:01\r\u001b[K     |████▋                           | 204kB 14.7MB/s eta 0:00:01\r\u001b[K     |████▉                           | 215kB 14.7MB/s eta 0:00:01\r\u001b[K     |█████                           | 225kB 14.7MB/s eta 0:00:01\r\u001b[K     |█████▎                          | 235kB 14.7MB/s eta 0:00:01\r\u001b[K     |█████▌                          | 245kB 14.7MB/s eta 0:00:01\r\u001b[K     |█████▊                          | 256kB 14.7MB/s eta 0:00:01\r\u001b[K     |██████                          | 266kB 14.7MB/s eta 0:00:01\r\u001b[K     |██████▏                         | 276kB 14.7MB/s eta 0:00:01\r\u001b[K     |██████▍                         | 286kB 14.7MB/s eta 0:00:01\r\u001b[K     |██████▋                         | 296kB 14.7MB/s eta 0:00:01\r\u001b[K     |██████▉                         | 307kB 14.7MB/s eta 0:00:01\r\u001b[K     |███████                         | 317kB 14.7MB/s eta 0:00:01\r\u001b[K     |███████▎                        | 327kB 14.7MB/s eta 0:00:01\r\u001b[K     |███████▌                        | 337kB 14.7MB/s eta 0:00:01\r\u001b[K     |███████▊                        | 348kB 14.7MB/s eta 0:00:01\r\u001b[K     |████████                        | 358kB 14.7MB/s eta 0:00:01\r\u001b[K     |████████▎                       | 368kB 14.7MB/s eta 0:00:01\r\u001b[K     |████████▌                       | 378kB 14.7MB/s eta 0:00:01\r\u001b[K     |████████▊                       | 389kB 14.7MB/s eta 0:00:01\r\u001b[K     |█████████                       | 399kB 14.7MB/s eta 0:00:01\r\u001b[K     |█████████▏                      | 409kB 14.7MB/s eta 0:00:01\r\u001b[K     |█████████▍                      | 419kB 14.7MB/s eta 0:00:01\r\u001b[K     |█████████▋                      | 430kB 14.7MB/s eta 0:00:01\r\u001b[K     |█████████▉                      | 440kB 14.7MB/s eta 0:00:01\r\u001b[K     |██████████                      | 450kB 14.7MB/s eta 0:00:01\r\u001b[K     |██████████▎                     | 460kB 14.7MB/s eta 0:00:01\r\u001b[K     |██████████▌                     | 471kB 14.7MB/s eta 0:00:01\r\u001b[K     |██████████▊                     | 481kB 14.7MB/s eta 0:00:01\r\u001b[K     |███████████                     | 491kB 14.7MB/s eta 0:00:01\r\u001b[K     |███████████▏                    | 501kB 14.7MB/s eta 0:00:01\r\u001b[K     |███████████▍                    | 512kB 14.7MB/s eta 0:00:01\r\u001b[K     |███████████▋                    | 522kB 14.7MB/s eta 0:00:01\r\u001b[K     |███████████▉                    | 532kB 14.7MB/s eta 0:00:01\r\u001b[K     |████████████▏                   | 542kB 14.7MB/s eta 0:00:01\r\u001b[K     |████████████▍                   | 552kB 14.7MB/s eta 0:00:01\r\u001b[K     |████████████▋                   | 563kB 14.7MB/s eta 0:00:01\r\u001b[K     |████████████▉                   | 573kB 14.7MB/s eta 0:00:01\r\u001b[K     |█████████████                   | 583kB 14.7MB/s eta 0:00:01\r\u001b[K     |█████████████▎                  | 593kB 14.7MB/s eta 0:00:01\r\u001b[K     |█████████████▌                  | 604kB 14.7MB/s eta 0:00:01\r\u001b[K     |█████████████▊                  | 614kB 14.7MB/s eta 0:00:01\r\u001b[K     |██████████████                  | 624kB 14.7MB/s eta 0:00:01\r\u001b[K     |██████████████▏                 | 634kB 14.7MB/s eta 0:00:01\r\u001b[K     |██████████████▍                 | 645kB 14.7MB/s eta 0:00:01\r\u001b[K     |██████████████▋                 | 655kB 14.7MB/s eta 0:00:01\r\u001b[K     |██████████████▉                 | 665kB 14.7MB/s eta 0:00:01\r\u001b[K     |███████████████                 | 675kB 14.7MB/s eta 0:00:01\r\u001b[K     |███████████████▎                | 686kB 14.7MB/s eta 0:00:01\r\u001b[K     |███████████████▌                | 696kB 14.7MB/s eta 0:00:01\r\u001b[K     |███████████████▊                | 706kB 14.7MB/s eta 0:00:01\r\u001b[K     |████████████████                | 716kB 14.7MB/s eta 0:00:01\r\u001b[K     |████████████████▎               | 727kB 14.7MB/s eta 0:00:01\r\u001b[K     |████████████████▌               | 737kB 14.7MB/s eta 0:00:01\r\u001b[K     |████████████████▊               | 747kB 14.7MB/s eta 0:00:01\r\u001b[K     |█████████████████               | 757kB 14.7MB/s eta 0:00:01\r\u001b[K     |█████████████████▏              | 768kB 14.7MB/s eta 0:00:01\r\u001b[K     |█████████████████▍              | 778kB 14.7MB/s eta 0:00:01\r\u001b[K     |█████████████████▋              | 788kB 14.7MB/s eta 0:00:01\r\u001b[K     |█████████████████▉              | 798kB 14.7MB/s eta 0:00:01\r\u001b[K     |██████████████████              | 808kB 14.7MB/s eta 0:00:01\r\u001b[K     |██████████████████▎             | 819kB 14.7MB/s eta 0:00:01\r\u001b[K     |██████████████████▌             | 829kB 14.7MB/s eta 0:00:01\r\u001b[K     |██████████████████▊             | 839kB 14.7MB/s eta 0:00:01\r\u001b[K     |███████████████████             | 849kB 14.7MB/s eta 0:00:01\r\u001b[K     |███████████████████▏            | 860kB 14.7MB/s eta 0:00:01\r\u001b[K     |███████████████████▍            | 870kB 14.7MB/s eta 0:00:01\r\u001b[K     |███████████████████▋            | 880kB 14.7MB/s eta 0:00:01\r\u001b[K     |███████████████████▉            | 890kB 14.7MB/s eta 0:00:01\r\u001b[K     |████████████████████▏           | 901kB 14.7MB/s eta 0:00:01\r\u001b[K     |████████████████████▍           | 911kB 14.7MB/s eta 0:00:01\r\u001b[K     |████████████████████▋           | 921kB 14.7MB/s eta 0:00:01\r\u001b[K     |████████████████████▉           | 931kB 14.7MB/s eta 0:00:01\r\u001b[K     |█████████████████████           | 942kB 14.7MB/s eta 0:00:01\r\u001b[K     |█████████████████████▎          | 952kB 14.7MB/s eta 0:00:01\r\u001b[K     |█████████████████████▌          | 962kB 14.7MB/s eta 0:00:01\r\u001b[K     |█████████████████████▊          | 972kB 14.7MB/s eta 0:00:01\r\u001b[K     |██████████████████████          | 983kB 14.7MB/s eta 0:00:01\r\u001b[K     |██████████████████████▏         | 993kB 14.7MB/s eta 0:00:01\r\u001b[K     |██████████████████████▍         | 1.0MB 14.7MB/s eta 0:00:01\r\u001b[K     |██████████████████████▋         | 1.0MB 14.7MB/s eta 0:00:01\r\u001b[K     |██████████████████████▉         | 1.0MB 14.7MB/s eta 0:00:01\r\u001b[K     |███████████████████████         | 1.0MB 14.7MB/s eta 0:00:01\r\u001b[K     |███████████████████████▎        | 1.0MB 14.7MB/s eta 0:00:01\r\u001b[K     |███████████████████████▌        | 1.1MB 14.7MB/s eta 0:00:01\r\u001b[K     |███████████████████████▊        | 1.1MB 14.7MB/s eta 0:00:01\r\u001b[K     |████████████████████████        | 1.1MB 14.7MB/s eta 0:00:01\r\u001b[K     |████████████████████████▎       | 1.1MB 14.7MB/s eta 0:00:01\r\u001b[K     |████████████████████████▌       | 1.1MB 14.7MB/s eta 0:00:01\r\u001b[K     |████████████████████████▊       | 1.1MB 14.7MB/s eta 0:00:01\r\u001b[K     |█████████████████████████       | 1.1MB 14.7MB/s eta 0:00:01\r\u001b[K     |█████████████████████████▏      | 1.1MB 14.7MB/s eta 0:00:01\r\u001b[K     |█████████████████████████▍      | 1.1MB 14.7MB/s eta 0:00:01\r\u001b[K     |█████████████████████████▋      | 1.1MB 14.7MB/s eta 0:00:01\r\u001b[K     |█████████████████████████▉      | 1.2MB 14.7MB/s eta 0:00:01\r\u001b[K     |██████████████████████████      | 1.2MB 14.7MB/s eta 0:00:01\r\u001b[K     |██████████████████████████▎     | 1.2MB 14.7MB/s eta 0:00:01\r\u001b[K     |██████████████████████████▌     | 1.2MB 14.7MB/s eta 0:00:01\r\u001b[K     |██████████████████████████▊     | 1.2MB 14.7MB/s eta 0:00:01\r\u001b[K     |███████████████████████████     | 1.2MB 14.7MB/s eta 0:00:01\r\u001b[K     |███████████████████████████▏    | 1.2MB 14.7MB/s eta 0:00:01\r\u001b[K     |███████████████████████████▍    | 1.2MB 14.7MB/s eta 0:00:01\r\u001b[K     |███████████████████████████▋    | 1.2MB 14.7MB/s eta 0:00:01\r\u001b[K     |███████████████████████████▉    | 1.2MB 14.7MB/s eta 0:00:01\r\u001b[K     |████████████████████████████▏   | 1.3MB 14.7MB/s eta 0:00:01\r\u001b[K     |████████████████████████████▍   | 1.3MB 14.7MB/s eta 0:00:01\r\u001b[K     |████████████████████████████▋   | 1.3MB 14.7MB/s eta 0:00:01\r\u001b[K     |████████████████████████████▉   | 1.3MB 14.7MB/s eta 0:00:01\r\u001b[K     |█████████████████████████████   | 1.3MB 14.7MB/s eta 0:00:01\r\u001b[K     |█████████████████████████████▎  | 1.3MB 14.7MB/s eta 0:00:01\r\u001b[K     |█████████████████████████████▌  | 1.3MB 14.7MB/s eta 0:00:01\r\u001b[K     |█████████████████████████████▊  | 1.3MB 14.7MB/s eta 0:00:01\r\u001b[K     |██████████████████████████████  | 1.3MB 14.7MB/s eta 0:00:01\r\u001b[K     |██████████████████████████████▏ | 1.4MB 14.7MB/s eta 0:00:01\r\u001b[K     |██████████████████████████████▍ | 1.4MB 14.7MB/s eta 0:00:01\r\u001b[K     |██████████████████████████████▋ | 1.4MB 14.7MB/s eta 0:00:01\r\u001b[K     |██████████████████████████████▉ | 1.4MB 14.7MB/s eta 0:00:01\r\u001b[K     |███████████████████████████████ | 1.4MB 14.7MB/s eta 0:00:01\r\u001b[K     |███████████████████████████████▎| 1.4MB 14.7MB/s eta 0:00:01\r\u001b[K     |███████████████████████████████▌| 1.4MB 14.7MB/s eta 0:00:01\r\u001b[K     |███████████████████████████████▊| 1.4MB 14.7MB/s eta 0:00:01\r\u001b[K     |████████████████████████████████| 1.4MB 14.7MB/s \n",
            "\u001b[?25hRequirement already satisfied, skipping upgrade: click in /usr/local/lib/python3.6/dist-packages (from nltk) (7.1.2)\n",
            "Requirement already satisfied, skipping upgrade: joblib in /usr/local/lib/python3.6/dist-packages (from nltk) (0.17.0)\n",
            "Requirement already satisfied, skipping upgrade: regex in /usr/local/lib/python3.6/dist-packages (from nltk) (2019.12.20)\n",
            "Requirement already satisfied, skipping upgrade: tqdm in /usr/local/lib/python3.6/dist-packages (from nltk) (4.41.1)\n",
            "Building wheels for collected packages: nltk\n",
            "  Building wheel for nltk (setup.py) ... \u001b[?25l\u001b[?25hdone\n",
            "  Created wheel for nltk: filename=nltk-3.5-cp36-none-any.whl size=1434677 sha256=ff55668e7ca3dedb6997c726495cdf221c00d0252b50dc852fea699d4d3e2f6d\n",
            "  Stored in directory: /root/.cache/pip/wheels/ae/8c/3f/b1fe0ba04555b08b57ab52ab7f86023639a526d8bc8d384306\n",
            "Successfully built nltk\n",
            "Installing collected packages: nltk\n",
            "\u001b[33m  WARNING: The script nltk is installed in '/root/.local/bin' which is not on PATH.\n",
            "  Consider adding this directory to PATH or, if you prefer to suppress this warning, use --no-warn-script-location.\u001b[0m\n",
            "Successfully installed nltk-3.5\n"
          ],
          "name": "stdout"
        }
      ]
    },
    {
      "cell_type": "markdown",
      "metadata": {
        "id": "6oe2ViA0QEvR"
      },
      "source": [
        ""
      ]
    },
    {
      "cell_type": "code",
      "metadata": {
        "colab": {
          "base_uri": "https://localhost:8080/"
        },
        "id": "81eNGyu2H9BU",
        "outputId": "35bd12d6-5232-4465-c6e5-9bb297af388a"
      },
      "source": [
        "# versions\n",
        "\n",
        "from platform import python_version\n",
        "\n",
        "print(python_version())"
      ],
      "execution_count": 2,
      "outputs": [
        {
          "output_type": "stream",
          "text": [
            "3.6.9\n"
          ],
          "name": "stdout"
        }
      ]
    },
    {
      "cell_type": "markdown",
      "metadata": {
        "id": "jh-5wLxuH9BU"
      },
      "source": [
        ""
      ]
    },
    {
      "cell_type": "code",
      "metadata": {
        "id": "N2uJRrM7H9BU"
      },
      "source": [
        "import nltk \n",
        "from nltk.stem import WordNetLemmatizer as wnl  \n",
        "import csv\n",
        "import sys\n",
        "import matplotlib.pyplot as plt\n",
        "import numpy as np\n"
      ],
      "execution_count": 3,
      "outputs": []
    },
    {
      "cell_type": "code",
      "metadata": {
        "colab": {
          "base_uri": "https://localhost:8080/"
        },
        "id": "HVgyfry1IGE9",
        "outputId": "9a6a8392-2cbc-409e-fe5c-e3408646111a"
      },
      "source": [
        "from google.colab import drive\n",
        "\n",
        "drive.mount('/content/gdrive')"
      ],
      "execution_count": 4,
      "outputs": [
        {
          "output_type": "stream",
          "text": [
            "Mounted at /content/gdrive\n"
          ],
          "name": "stdout"
        }
      ]
    },
    {
      "cell_type": "markdown",
      "metadata": {
        "id": "hGhx-QQ7H9BU"
      },
      "source": [
        "averaged_perceptron_tagger"
      ]
    },
    {
      "cell_type": "code",
      "metadata": {
        "id": "qSkrW_LjH9BU",
        "colab": {
          "base_uri": "https://localhost:8080/"
        },
        "outputId": "1d4a65bf-75b2-4abb-d92b-9aaa0974363e"
      },
      "source": [
        "nltk.download()\n",
        "\n",
        "\n",
        "# download \"averaged_perceptron_tagger\"\n",
        "# downliad \"punkt\"    \n",
        "# download \"wordnet\"\n",
        "# download \"stopwords\""
      ],
      "execution_count": 5,
      "outputs": [
        {
          "output_type": "stream",
          "text": [
            "NLTK Downloader\n",
            "---------------------------------------------------------------------------\n",
            "    d) Download   l) List    u) Update   c) Config   h) Help   q) Quit\n",
            "---------------------------------------------------------------------------\n",
            "Downloader> d\n",
            "\n",
            "Download which package (l=list; x=cancel)?\n",
            "  Identifier> averaged_perceptron_tagger\n",
            "    Downloading package averaged_perceptron_tagger to\n",
            "        /root/nltk_data...\n",
            "      Unzipping taggers/averaged_perceptron_tagger.zip.\n",
            "\n",
            "---------------------------------------------------------------------------\n",
            "    d) Download   l) List    u) Update   c) Config   h) Help   q) Quit\n",
            "---------------------------------------------------------------------------\n",
            "Downloader> d\n",
            "\n",
            "Download which package (l=list; x=cancel)?\n",
            "  Identifier> punkt\n",
            "    Downloading package punkt to /root/nltk_data...\n",
            "      Unzipping tokenizers/punkt.zip.\n",
            "\n",
            "---------------------------------------------------------------------------\n",
            "    d) Download   l) List    u) Update   c) Config   h) Help   q) Quit\n",
            "---------------------------------------------------------------------------\n",
            "Downloader> d\n",
            "\n",
            "Download which package (l=list; x=cancel)?\n",
            "  Identifier> wordnet\n",
            "    Downloading package wordnet to /root/nltk_data...\n",
            "      Unzipping corpora/wordnet.zip.\n",
            "\n",
            "---------------------------------------------------------------------------\n",
            "    d) Download   l) List    u) Update   c) Config   h) Help   q) Quit\n",
            "---------------------------------------------------------------------------\n",
            "Downloader> d\n",
            "\n",
            "Download which package (l=list; x=cancel)?\n",
            "  Identifier> stopwords\n",
            "    Downloading package stopwords to /root/nltk_data...\n",
            "      Unzipping corpora/stopwords.zip.\n",
            "\n",
            "---------------------------------------------------------------------------\n",
            "    d) Download   l) List    u) Update   c) Config   h) Help   q) Quit\n",
            "---------------------------------------------------------------------------\n",
            "Downloader> q\n"
          ],
          "name": "stdout"
        },
        {
          "output_type": "execute_result",
          "data": {
            "text/plain": [
              "True"
            ]
          },
          "metadata": {
            "tags": []
          },
          "execution_count": 5
        }
      ]
    },
    {
      "cell_type": "markdown",
      "metadata": {
        "id": "2qSrz_8oH9BX"
      },
      "source": [
        "#2- Load Data"
      ]
    },
    {
      "cell_type": "markdown",
      "metadata": {
        "id": "oo0hcMDxH9BX"
      },
      "source": [
        "### Load previous Data "
      ]
    },
    {
      "cell_type": "code",
      "metadata": {
        "colab": {
          "base_uri": "https://localhost:8080/"
        },
        "id": "ADOEsKoSH9BX",
        "outputId": "b38262f4-5bb0-4c69-d182-38e3235a5022"
      },
      "source": [
        "import pickle \n",
        "\n",
        "\n",
        "\n",
        "#--- open test data pickle -- #\n",
        "#---------------------------------------------------------------#\n",
        "#file_name = \"test_data.pickle\"\n",
        "file_name = \"/content/gdrive/MyDrive/Thesis/test_data.pickle\"\n",
        "test_fileObj = open(file_name,'rb')\n",
        "test_data_file = pickle.load(test_fileObj)\n",
        "\n",
        "#--- open train data pickle -- #\n",
        "#---------------------------------------------------------------#\n",
        "#file_name1 = \"training_data.pickle\"\n",
        "file_name1 = \"/content/gdrive/MyDrive/Thesis/training_data.pickle\"\n",
        "train_fileObj = open(file_name1,'rb')\n",
        "train_data_file = pickle.load(train_fileObj)\n",
        "\n",
        "#--- to store transcripts and labels from both pickles in a vector -- #\n",
        "#---------------------------------------------------------------#\n",
        "complete_transcripts_data=[] # to get all data from both test and train\n",
        "complete_labels= []\n",
        "\n",
        "#--- iterate over test data to store -- #\n",
        "#---------------------------------------------------------------#\n",
        "\n",
        "for i in range (0,len(test_data_file)):\n",
        "    complete_transcripts_data.append(test_data_file[i][0])\n",
        "    complete_labels.append(test_data_file[i][1])\n",
        "    \n",
        "print(\"done storing test data\")\n",
        "\n",
        "#--- iterate over train data to store -- #\n",
        "#---------------------------------------------------------------#\n",
        "\n",
        "for i in range (0,len(train_data_file)):\n",
        "    complete_transcripts_data.append(train_data_file[i][0])\n",
        "    complete_labels.append(train_data_file[i][1])\n",
        "print(\"done storing train data\")\n",
        "#---------------------------------------------------------------#"
      ],
      "execution_count": 6,
      "outputs": [
        {
          "output_type": "stream",
          "text": [
            "done storing test data\n",
            "done storing train data\n"
          ],
          "name": "stdout"
        }
      ]
    },
    {
      "cell_type": "code",
      "metadata": {
        "colab": {
          "base_uri": "https://localhost:8080/"
        },
        "id": "lD1Uhtj4H9BX",
        "outputId": "3c2aeeb2-421c-494e-adcb-a3e113849414"
      },
      "source": [
        "len(complete_transcripts_data)"
      ],
      "execution_count": 7,
      "outputs": [
        {
          "output_type": "execute_result",
          "data": {
            "text/plain": [
              "424"
            ]
          },
          "metadata": {
            "tags": []
          },
          "execution_count": 7
        }
      ]
    },
    {
      "cell_type": "markdown",
      "metadata": {
        "id": "KUttIgBJH9BY"
      },
      "source": [
        "### Combine previous data with data by team A"
      ]
    },
    {
      "cell_type": "code",
      "metadata": {
        "id": "OpAz9xapH9BY"
      },
      "source": [
        "import csv\n",
        "import sys"
      ],
      "execution_count": 8,
      "outputs": []
    },
    {
      "cell_type": "code",
      "metadata": {
        "id": "9P6Hkb7TH9BY",
        "colab": {
          "base_uri": "https://localhost:8080/"
        },
        "outputId": "02154b7e-d68e-4673-c329-b6419dd7c489"
      },
      "source": [
        "\n",
        "#file_a= open('data_team_a.csv','r')\n",
        "file_a= open('/content/gdrive/MyDrive/Thesis/data_team_a.csv','r')\n",
        "collection_a = csv.reader(file_a)\n",
        "next(collection_a) # to skip the header"
      ],
      "execution_count": 9,
      "outputs": [
        {
          "output_type": "execute_result",
          "data": {
            "text/plain": [
              "['id', 'transcript', 'rating']"
            ]
          },
          "metadata": {
            "tags": []
          },
          "execution_count": 9
        }
      ]
    },
    {
      "cell_type": "code",
      "metadata": {
        "id": "a8LHfGI3H9BY"
      },
      "source": [
        "labels_a =[]\n",
        "transcripts_a= []\n",
        "for row in collection_a:\n",
        "    complete_transcripts_data.append(row[1])  # store transcripts in a vector\n",
        "    for i in range (0,len(row[2])):\n",
        "        complete_labels.append(int(row[2][i])) # labels stored in vector"
      ],
      "execution_count": 10,
      "outputs": []
    },
    {
      "cell_type": "code",
      "metadata": {
        "id": "4ffDhLrqH9BY",
        "colab": {
          "base_uri": "https://localhost:8080/"
        },
        "outputId": "f9c3766b-a8bf-4ce7-c3ba-da82b64d4ec6"
      },
      "source": [
        "len(complete_transcripts_data)"
      ],
      "execution_count": 11,
      "outputs": [
        {
          "output_type": "execute_result",
          "data": {
            "text/plain": [
              "444"
            ]
          },
          "metadata": {
            "tags": []
          },
          "execution_count": 11
        }
      ]
    },
    {
      "cell_type": "markdown",
      "metadata": {
        "id": "JyO5i4TtH9BZ"
      },
      "source": [
        ""
      ]
    },
    {
      "cell_type": "markdown",
      "metadata": {
        "id": "Bg-APDr9H9BZ"
      },
      "source": [
        "### Combine previous data with data by team B"
      ]
    },
    {
      "cell_type": "code",
      "metadata": {
        "id": "EiTnoz6cH9Ba",
        "colab": {
          "base_uri": "https://localhost:8080/"
        },
        "outputId": "ee70c89c-ec77-403c-f1c1-c3e273d1c1c2"
      },
      "source": [
        "\n",
        "#file_b= open('data_team_b.csv','r')\n",
        "file_b= open('/content/gdrive/MyDrive/Thesis/data_team_b.csv','r')\n",
        "collection_b = csv.reader(file_b)\n",
        "next(collection_b) # to skip the header"
      ],
      "execution_count": 12,
      "outputs": [
        {
          "output_type": "execute_result",
          "data": {
            "text/plain": [
              "['id', 'transcript', 'rating']"
            ]
          },
          "metadata": {
            "tags": []
          },
          "execution_count": 12
        }
      ]
    },
    {
      "cell_type": "code",
      "metadata": {
        "id": "Y8yB7ayLH9Bb"
      },
      "source": [
        "csv.field_size_limit(sys.maxsize) # to increase the field limit \n",
        "for row in collection_b:\n",
        "    complete_transcripts_data.append(row[1])  # append to the complete data\n",
        "    for i in range (0,len(row[2])):\n",
        "        complete_labels.append(int(row[2][i])) # append labels to the vector which has all the data"
      ],
      "execution_count": 13,
      "outputs": []
    },
    {
      "cell_type": "code",
      "metadata": {
        "id": "IXlxYEfbH9Bb",
        "colab": {
          "base_uri": "https://localhost:8080/"
        },
        "outputId": "5bcfeda7-6782-45f2-cb16-046f03eae062"
      },
      "source": [
        "len(complete_transcripts_data)"
      ],
      "execution_count": 14,
      "outputs": [
        {
          "output_type": "execute_result",
          "data": {
            "text/plain": [
              "483"
            ]
          },
          "metadata": {
            "tags": []
          },
          "execution_count": 14
        }
      ]
    },
    {
      "cell_type": "code",
      "metadata": {
        "id": "JOGrEQifH9Bb",
        "colab": {
          "base_uri": "https://localhost:8080/"
        },
        "outputId": "9a2eda07-2ff4-43c0-e993-c30b18029706"
      },
      "source": [
        "len(complete_labels)"
      ],
      "execution_count": 15,
      "outputs": [
        {
          "output_type": "execute_result",
          "data": {
            "text/plain": [
              "483"
            ]
          },
          "metadata": {
            "tags": []
          },
          "execution_count": 15
        }
      ]
    },
    {
      "cell_type": "markdown",
      "metadata": {
        "id": "bOFoOLj5P6rC"
      },
      "source": [
        "#3- Preprocessing"
      ]
    },
    {
      "cell_type": "markdown",
      "metadata": {
        "id": "2YXy6gLbH9Bb"
      },
      "source": [
        "### Function that does all and returns the pre-processed data\n",
        "\n",
        "\n"
      ]
    },
    {
      "cell_type": "code",
      "metadata": {
        "id": "kl1xVkVeH9Bb"
      },
      "source": [
        ""
      ],
      "execution_count": 15,
      "outputs": []
    },
    {
      "cell_type": "code",
      "metadata": {
        "id": "D-NMVtu0H9Bb"
      },
      "source": [
        "def pre_processing(document):\n",
        "\n",
        "#removes non-alpha numeric\n",
        "    punctuations=\"?.,]!:;[\"\n",
        "    new_document= []\n",
        "    for sentence in document:\n",
        "        words = nltk.word_tokenize(sentence)\n",
        "\n",
        "        for word in words:\n",
        "            if word in punctuations:\n",
        "                words.remove(word)\n",
        "        new_document.append(words)\n",
        "\n",
        "\n",
        "\n",
        "#----------------------------------------------------------#\n",
        "# lemmatize the document. \n",
        "    from nltk.corpus import wordnet\n",
        "    from nltk.stem import WordNetLemmatizer \n",
        "    lemmatizer = WordNetLemmatizer()\n",
        "\n",
        "    lemmatized = [] # to store lematized sentences\n",
        "    \n",
        "    for sentence in new_document:\n",
        "        lem_vector =[] # to store lematized words from 1 sentence\n",
        "        for word in sentence:\n",
        "\n",
        "            tag_tuple = nltk.pos_tag([word])[0][1]\n",
        "            tag = tag_tuple[0] # takes out the tag for each word\n",
        "            # lemmatize the word with the appropriate tag\n",
        "            if tag == 'V':\n",
        "                lem_vector.append(lemmatizer.lemmatize(word, wordnet.VERB))\n",
        "            elif tag ==\"N\":\n",
        "                lem_vector.append(lemmatizer.lemmatize(word, wordnet.NOUN))\n",
        "            elif tag ==\"J\":\n",
        "                lem_vector.append(lemmatizer.lemmatize(word, wordnet.ADJ))    \n",
        "            elif tag ==\"R\":\n",
        "                lem_vector.append(lemmatizer.lemmatize(word, wordnet.ADV))\n",
        "            \n",
        "            \n",
        "            #lem_vector.append(lem_word) # add lematized words for 1 document\n",
        "\n",
        "        lemmatized.append(lem_vector) # add lematized documents \n",
        "#----------------------------------------------------------#\n",
        "#remove stop words\n",
        "\n",
        "    from nltk.corpus import stopwords\n",
        "\n",
        "    stop_words = stopwords.words('english')\n",
        "    stop_words.append('music') # to remove the[music] which comes in transcripts of videos which have background music\n",
        "    stop_words.append('me')\n",
        "    no_stop_word = [] # vector to store all sentences after processing \n",
        "\n",
        "    for sentence in lemmatized:\n",
        "        stop_vector=[] # vector to store individual sentences after processing. Over write the vector for each sentence\n",
        "        for word in sentence:\n",
        "            if word not in stop_words:\n",
        "                stop_vector.append(word)\n",
        "        no_stop_word.append(stop_vector)\n",
        "\n",
        "   # return(no_stop_word)\n",
        "\n",
        "#----------------------------------------------------------#\n",
        "\n",
        "#### Remove any spaces(if any)\n",
        "### Lower case everything\n",
        "\n",
        "    words_doc =[] # to store the words that are left in each transcript\n",
        "\n",
        "    for sentence in no_stop_word:\n",
        "        sentence_vector=[] # to store words for 1 transcript\n",
        "        for word in sentence:\n",
        "            if len(word)> 1:\n",
        "                sentence_vector.append(word.lower()) # appends the remaining words, lower cased, in this vector\n",
        "        words_doc.append(sentence_vector)\n",
        "\n",
        "    #return (words_doc)\n",
        "#----------------------------------------------------------#\n",
        "## remove \"music\"\n",
        "    final_doc =[]\n",
        "    for sentence in words_doc:\n",
        "        sen_vec= []\n",
        "        for word in sentence:\n",
        "            if word != 'music':\n",
        "                sen_vec.append(word)\n",
        "        final_doc.append(sen_vec)\n",
        "    return final_doc\n"
      ],
      "execution_count": 16,
      "outputs": []
    },
    {
      "cell_type": "code",
      "metadata": {
        "id": "whl3ynn6H9Bb"
      },
      "source": [
        "a= pre_processing(complete_transcripts_data)"
      ],
      "execution_count": 17,
      "outputs": []
    },
    {
      "cell_type": "markdown",
      "metadata": {
        "id": "A5ju2_hlH9Bc"
      },
      "source": [
        "### Count of each label"
      ]
    },
    {
      "cell_type": "code",
      "metadata": {
        "id": "DzgVBpr5H9Bc",
        "colab": {
          "base_uri": "https://localhost:8080/"
        },
        "outputId": "8c5808ed-f460-47f3-a53c-31a26c4ed7d5"
      },
      "source": [
        "count_1 =0\n",
        "count_2 =0\n",
        "count_3 =0\n",
        "for i in complete_labels:\n",
        "    if i == 1:\n",
        "        count_1= count_1 + 1 \n",
        "    elif i==2:\n",
        "        count_2 = count_2 + 1\n",
        "    else:\n",
        "        count_3 = count_3 + 1\n",
        "print(count_1)\n",
        "print(count_2)\n",
        "print(count_3)"
      ],
      "execution_count": 18,
      "outputs": [
        {
          "output_type": "stream",
          "text": [
            "347\n",
            "65\n",
            "71\n"
          ],
          "name": "stdout"
        }
      ]
    },
    {
      "cell_type": "code",
      "metadata": {
        "id": "3Q5B8BaVH9Bc",
        "colab": {
          "base_uri": "https://localhost:8080/",
          "height": 54
        },
        "outputId": "aa1c27ec-44ad-4e35-b289-47e05678ca72"
      },
      "source": [
        "import matplotlib.pyplot as plt\n",
        "\n",
        "fig = plt.figure()\n",
        "graph = fig.add_axes([0,0,0.75,0.75])\n",
        "labels = ['Label 1', 'Label 2', 'Label 3']\n",
        "counts = [347,65,71]\n",
        "graph.bar(labels,counts,width = 0.5)\n",
        "graph.set_ylabel('Counts')\n",
        "graph.set_title('Label Distribution')\n",
        "plt.show()\n"
      ],
      "execution_count": 19,
      "outputs": [
        {
          "output_type": "display_data",
          "data": {
            "image/png": "[encoded data removed]",
            "text/plain": [
              "<Figure size 432x288 with 1 Axes>"
            ]
          },
          "metadata": {
            "tags": [],
            "needs_background": "light"
          }
        }
      ]
    },
    {
      "cell_type": "markdown",
      "metadata": {
        "id": "kHM1RtQAH9Bc"
      },
      "source": [
        "## Combine labels to make a binary classification problem"
      ]
    },
    {
      "cell_type": "code",
      "metadata": {
        "id": "nk9XYal2H9Bc"
      },
      "source": [
        "binary_labels = [] # make new vector to store binarized labels\n",
        "\n",
        "for i in range (0,len(complete_labels)):\n",
        "    if complete_labels[i] == 1:\n",
        "        binary_labels.append(0)\n",
        "    else:\n",
        "        binary_labels.append(1)\n",
        "\n",
        "#for i in range (0,len(complete_labels)):\n",
        " #   print(complete_labels[i], \"--->\" , binary_labels[i]) # print to check binarized labels"
      ],
      "execution_count": 20,
      "outputs": []
    },
    {
      "cell_type": "code",
      "metadata": {
        "id": "UCoFLtr5H9Bc"
      },
      "source": [
        "X = a\n",
        "Y = binary_labels\n"
      ],
      "execution_count": 21,
      "outputs": []
    },
    {
      "cell_type": "code",
      "metadata": {
        "id": "dZ4HbpIdH9Bc",
        "colab": {
          "base_uri": "https://localhost:8080/"
        },
        "outputId": "fd113e29-7a2e-4071-e74e-47af4c3e44ab"
      },
      "source": [
        "count_0 =0\n",
        "count_1 =0\n",
        "for i in Y:\n",
        "    if i == 0:\n",
        "        count_0= count_0 + 1 \n",
        "    else:\n",
        "        count_1 = count_1 + 1\n",
        "print(count_0)\n",
        "print(count_1)"
      ],
      "execution_count": 22,
      "outputs": [
        {
          "output_type": "stream",
          "text": [
            "347\n",
            "136\n"
          ],
          "name": "stdout"
        }
      ]
    },
    {
      "cell_type": "markdown",
      "metadata": {
        "id": "Spd7p-avH9Bd"
      },
      "source": [
        "### Binary Lable Distribution"
      ]
    },
    {
      "cell_type": "code",
      "metadata": {
        "id": "1O-flVPuH9Bd",
        "colab": {
          "base_uri": "https://localhost:8080/",
          "height": 54
        },
        "outputId": "745e4d3c-5ac1-4176-93ac-fc5f977741b5"
      },
      "source": [
        "import matplotlib.pyplot as plt\n",
        "fig = plt.figure()\n",
        "graph = fig.add_axes([0,0,0.75,0.75])\n",
        "labels = ['Label 0', 'Label 1']\n",
        "counts = [347,136]\n",
        "graph.bar(labels,counts,width = 0.5)\n",
        "graph.set_ylabel('Counts')\n",
        "x = np.arange(len(labels))\n",
        "graph.set_title('Binary Label Distribution')\n",
        "plt.show()"
      ],
      "execution_count": 23,
      "outputs": [
        {
          "output_type": "display_data",
          "data": {
            "image/png": "[encoded data removed]",
            "text/plain": [
              "<Figure size 432x288 with 1 Axes>"
            ]
          },
          "metadata": {
            "tags": [],
            "needs_background": "light"
          }
        }
      ]
    },
    {
      "cell_type": "markdown",
      "metadata": {
        "id": "PwFEeRkHH9Bd"
      },
      "source": [
        "### Split into train-test"
      ]
    },
    {
      "cell_type": "code",
      "metadata": {
        "id": "A1A-kcbEH9Bd"
      },
      "source": [
        "from sklearn.model_selection import train_test_split\n",
        "\n",
        "# split data to train and test so that the models can be trained and tested\n",
        "\n",
        "X_train,X_test,Y_train, Y_test = train_test_split(X,Y,test_size= 0.30,random_state = 653)"
      ],
      "execution_count": 24,
      "outputs": []
    },
    {
      "cell_type": "code",
      "metadata": {
        "id": "aVsinnvKH9Bd",
        "colab": {
          "base_uri": "https://localhost:8080/"
        },
        "outputId": "3d883a95-a019-44ee-ff81-082d2139c87f"
      },
      "source": [
        "print(len(X_train))\n",
        "print(len(X_test))"
      ],
      "execution_count": 25,
      "outputs": [
        {
          "output_type": "stream",
          "text": [
            "338\n",
            "145\n"
          ],
          "name": "stdout"
        }
      ]
    },
    {
      "cell_type": "markdown",
      "metadata": {
        "id": "gwp1cPa2H9Bd"
      },
      "source": [
        "### Label encoder"
      ]
    },
    {
      "cell_type": "code",
      "metadata": {
        "id": "Q-VwCtpDH9Bd"
      },
      "source": [
        "from sklearn.preprocessing import LabelEncoder\n",
        "Encoder = LabelEncoder()\n",
        "Train_Y = Encoder.fit_transform(Y_train)\n",
        "Test_Y = Encoder.fit_transform(Y_test)"
      ],
      "execution_count": 26,
      "outputs": []
    },
    {
      "cell_type": "code",
      "metadata": {
        "id": "LrLAqzg9H9Bd"
      },
      "source": [
        ""
      ],
      "execution_count": 26,
      "outputs": []
    },
    {
      "cell_type": "markdown",
      "metadata": {
        "id": "UDGAYohlYlND"
      },
      "source": [
        "## Word counts"
      ]
    },
    {
      "cell_type": "markdown",
      "metadata": {
        "id": "K4wZgCvGU3xO"
      },
      "source": [
        "### Unique words in the whole data"
      ]
    },
    {
      "cell_type": "code",
      "metadata": {
        "colab": {
          "base_uri": "https://localhost:8080/"
        },
        "id": "fIiRHTcxT2sD",
        "outputId": "85c82ce6-3900-4895-84f5-5d1f4625311a"
      },
      "source": [
        "import numpy\n",
        "\n",
        "all_features =[]\n",
        "for i in a:\n",
        "  x= numpy.array(i)\n",
        "  for j in x:\n",
        "    all_features.append(j)\n",
        "\n",
        "unique_words = numpy.unique(all_features)\n",
        "len(numpy.unique(all_features))"
      ],
      "execution_count": 27,
      "outputs": [
        {
          "output_type": "execute_result",
          "data": {
            "text/plain": [
              "33026"
            ]
          },
          "metadata": {
            "tags": []
          },
          "execution_count": 27
        }
      ]
    },
    {
      "cell_type": "markdown",
      "metadata": {
        "id": "x042zSZsU72C"
      },
      "source": [
        "### Mean words"
      ]
    },
    {
      "cell_type": "code",
      "metadata": {
        "colab": {
          "base_uri": "https://localhost:8080/"
        },
        "id": "uueoV2n6UaSH",
        "outputId": "df7be5e0-1211-4707-fede-156066208018"
      },
      "source": [
        "all_features =[]\n",
        "total_count =0\n",
        "for i in a:\n",
        "  x= numpy.array(i)\n",
        "  all_features.append(x)\n",
        "\n",
        "for i in all_features:\n",
        "  total_count = len(i) + total_count\n",
        "total_count / len(all_features)"
      ],
      "execution_count": 28,
      "outputs": [
        {
          "output_type": "execute_result",
          "data": {
            "text/plain": [
              "1801.9233954451345"
            ]
          },
          "metadata": {
            "tags": []
          },
          "execution_count": 28
        }
      ]
    },
    {
      "cell_type": "markdown",
      "metadata": {
        "id": "8iCx-WTYVjjE"
      },
      "source": [
        "### largest feature vector"
      ]
    },
    {
      "cell_type": "markdown",
      "metadata": {
        "id": "AEiI4SeHbxve"
      },
      "source": [
        ""
      ]
    },
    {
      "cell_type": "code",
      "metadata": {
        "colab": {
          "base_uri": "https://localhost:8080/"
        },
        "id": "IyhYRnAYVm6a",
        "outputId": "cdb65b08-5a2b-4947-ac8f-0660f1e1c826"
      },
      "source": [
        "all_features =[]\n",
        "max =0\n",
        "for i in a:\n",
        "  x= numpy.array(i)\n",
        "  all_features.append(x)\n",
        "\n",
        "for i in all_features:\n",
        "  if len(i) >=max:\n",
        "    max = len(i)\n",
        "\n",
        "print(\"Maximum words in a transcript are :\", max)\n"
      ],
      "execution_count": 29,
      "outputs": [
        {
          "output_type": "stream",
          "text": [
            "Maximum words in a transcript are : 17936\n"
          ],
          "name": "stdout"
        }
      ]
    },
    {
      "cell_type": "markdown",
      "metadata": {
        "id": "nauVxaIEbzgN"
      },
      "source": [
        "### count of words for each transcript"
      ]
    },
    {
      "cell_type": "code",
      "metadata": {
        "colab": {
          "base_uri": "https://localhost:8080/"
        },
        "id": "96769rQyb5sS",
        "outputId": "9c40761e-507d-4ec8-ba9f-cc3d2b360d2f"
      },
      "source": [
        "all_features =[]\n",
        "all_counts= []\n",
        "for i in a:\n",
        "  x= numpy.array(i)\n",
        "  all_features.append(x)\n",
        "\n",
        "for i in all_features:\n",
        "  all_counts.append(len(i))\n",
        "numpy.max(all_counts)"
      ],
      "execution_count": 30,
      "outputs": [
        {
          "output_type": "execute_result",
          "data": {
            "text/plain": [
              "17936"
            ]
          },
          "metadata": {
            "tags": []
          },
          "execution_count": 30
        }
      ]
    },
    {
      "cell_type": "code",
      "metadata": {
        "colab": {
          "base_uri": "https://localhost:8080/",
          "height": 312
        },
        "id": "tZZzGjyQc2t8",
        "outputId": "c398b6e2-d30e-49dd-d4c6-a898bab1d1f9"
      },
      "source": [
        "import matplotlib.pyplot as plt\n",
        "y = all_counts\n",
        "x = []\n",
        "for i in range (1,484):\n",
        "  x.append(i)\n",
        "plt.plot(x, y, color='black', linestyle='dashed', linewidth = 1 ) \n",
        "plt.title(\"Word count per transcript\")\n",
        "plt.xlabel(\"transcript number\")\n",
        "plt.ylabel(\"word count\")"
      ],
      "execution_count": 31,
      "outputs": [
        {
          "output_type": "execute_result",
          "data": {
            "text/plain": [
              "Text(0, 0.5, 'word count')"
            ]
          },
          "metadata": {
            "tags": []
          },
          "execution_count": 31
        },
        {
          "output_type": "display_data",
          "data": {
            "image/png": "[encoded data removed]",
            "text/plain": [
              "<Figure size 432x288 with 1 Axes>"
            ]
          },
          "metadata": {
            "tags": [],
            "needs_background": "light"
          }
        }
      ]
    },
    {
      "cell_type": "markdown",
      "metadata": {
        "id": "2X_39jsNH9Bd"
      },
      "source": [
        "#4- TF-IDF Feature extractions"
      ]
    },
    {
      "cell_type": "markdown",
      "metadata": {
        "id": "2_9dOWFFH9Bd"
      },
      "source": [
        ""
      ]
    },
    {
      "cell_type": "markdown",
      "metadata": {
        "id": "53jg9uvxH9Bd"
      },
      "source": [
        "### Prepare data for TF_IDF"
      ]
    },
    {
      "cell_type": "code",
      "metadata": {
        "id": "WXdCWR-FH9Bd"
      },
      "source": [
        "#prepare train data for TF_IDF transfrom\n",
        "tf_data_train= []\n",
        "for transcript in X_train:\n",
        "    tf_data_train.append(\" \".join(transcript))\n",
        "    "
      ],
      "execution_count": 32,
      "outputs": []
    },
    {
      "cell_type": "code",
      "metadata": {
        "id": "Ma7otq9oH9Bd"
      },
      "source": [
        "#prepare test data for TF_IDF transfrom\n",
        "tf_data_test= []\n",
        "for transcript in X_test:\n",
        "    tf_data_test.append(\" \".join(transcript))"
      ],
      "execution_count": 33,
      "outputs": []
    },
    {
      "cell_type": "code",
      "metadata": {
        "id": "kkf-MBFNH9Bd",
        "colab": {
          "base_uri": "https://localhost:8080/"
        },
        "outputId": "c4acea45-c705-404e-e754-5088e8e8d4a2"
      },
      "source": [
        "print(len(tf_data_test))\n",
        "print(len(tf_data_train))"
      ],
      "execution_count": 34,
      "outputs": [
        {
          "output_type": "stream",
          "text": [
            "145\n",
            "338\n"
          ],
          "name": "stdout"
        }
      ]
    },
    {
      "cell_type": "code",
      "metadata": {
        "id": "CkEDjR7xH9Bd"
      },
      "source": [
        ""
      ],
      "execution_count": 34,
      "outputs": []
    },
    {
      "cell_type": "code",
      "metadata": {
        "id": "r88Msd3QH9Bd"
      },
      "source": [
        "all_data_for_tf = []\n",
        "for i in tf_data_test:\n",
        "    all_data_for_tf.append(i)\n",
        "for j in tf_data_train:\n",
        "    all_data_for_tf.append(j)\n",
        "    \n",
        "    "
      ],
      "execution_count": 35,
      "outputs": []
    },
    {
      "cell_type": "code",
      "metadata": {
        "id": "NtbYoTB5H9Bd"
      },
      "source": [
        "clean_data = all_data_for_tf"
      ],
      "execution_count": 36,
      "outputs": []
    },
    {
      "cell_type": "markdown",
      "metadata": {
        "id": "GzNQqAlAH9Bd"
      },
      "source": [
        "### Train TF-IDF"
      ]
    },
    {
      "cell_type": "markdown",
      "metadata": {
        "id": "8Fmq1WuYH9Be"
      },
      "source": [
        ""
      ]
    },
    {
      "cell_type": "code",
      "metadata": {
        "id": "orzkZ8VLH9Be"
      },
      "source": [
        "from sklearn.feature_extraction.text import TfidfVectorizer"
      ],
      "execution_count": 37,
      "outputs": []
    },
    {
      "cell_type": "code",
      "metadata": {
        "id": "QPfUAXJAH9Be",
        "colab": {
          "base_uri": "https://localhost:8080/"
        },
        "outputId": "9225aa59-e822-42f0-cd71-0f4f5e0c5ee5"
      },
      "source": [
        "Tfidf_vect = TfidfVectorizer(max_features=4000)\n",
        "Tfidf_vect.fit(all_data_for_tf)"
      ],
      "execution_count": 38,
      "outputs": [
        {
          "output_type": "execute_result",
          "data": {
            "text/plain": [
              "TfidfVectorizer(analyzer='word', binary=False, decode_error='strict',\n",
              "                dtype=<class 'numpy.float64'>, encoding='utf-8',\n",
              "                input='content', lowercase=True, max_df=1.0, max_features=4000,\n",
              "                min_df=1, ngram_range=(1, 1), norm='l2', preprocessor=None,\n",
              "                smooth_idf=True, stop_words=None, strip_accents=None,\n",
              "                sublinear_tf=False, token_pattern='(?u)\\\\b\\\\w\\\\w+\\\\b',\n",
              "                tokenizer=None, use_idf=True, vocabulary=None)"
            ]
          },
          "metadata": {
            "tags": []
          },
          "execution_count": 38
        }
      ]
    },
    {
      "cell_type": "code",
      "metadata": {
        "id": "HnsWGL0iH9Be"
      },
      "source": [
        "Train_X_Tfidf = Tfidf_vect.transform(tf_data_train).toarray()\n",
        "Test_X_Tfidf = Tfidf_vect.transform(tf_data_test).toarray()\n"
      ],
      "execution_count": 39,
      "outputs": []
    },
    {
      "cell_type": "code",
      "metadata": {
        "id": "BrCJJjv6H9Be"
      },
      "source": [
        "Train_X_Tfidf1 = Tfidf_vect.transform(tf_data_train)\n",
        "Test_X_Tfidf1 = Tfidf_vect.transform(tf_data_test)"
      ],
      "execution_count": 40,
      "outputs": []
    },
    {
      "cell_type": "markdown",
      "metadata": {
        "id": "hQgcj3vRH9Be"
      },
      "source": [
        "### TF-IDF bigram"
      ]
    },
    {
      "cell_type": "code",
      "metadata": {
        "id": "dMYn9ExiH9Be"
      },
      "source": [
        "bigram_Tfidf_vect = TfidfVectorizer(max_features=4000,ngram_range=(2,2))\n",
        "bigram_Tfidf_vect.fit(all_data_for_tf)\n",
        "\n",
        "bigram_Train_X_Tfidf = bigram_Tfidf_vect.transform(tf_data_train)\n",
        "bigram_Test_X_Tfidf = bigram_Tfidf_vect.transform(tf_data_test)"
      ],
      "execution_count": 41,
      "outputs": []
    },
    {
      "cell_type": "markdown",
      "metadata": {
        "id": "ebRL8WM-H9Be"
      },
      "source": [
        "### TF-IDF tri-gram"
      ]
    },
    {
      "cell_type": "code",
      "metadata": {
        "id": "rpVwfJqIH9Be"
      },
      "source": [
        "trigram_Tfidf_vect = TfidfVectorizer(max_features=4000,ngram_range=(3,3))\n",
        "trigram_Tfidf_vect.fit(all_data_for_tf)\n",
        "\n",
        "trigram_Train_X_Tfidf = trigram_Tfidf_vect.transform(tf_data_train)\n",
        "trigram_Test_X_Tfidf = trigram_Tfidf_vect.transform(tf_data_test)"
      ],
      "execution_count": 42,
      "outputs": []
    },
    {
      "cell_type": "markdown",
      "metadata": {
        "id": "u4wvlO8mH9Be"
      },
      "source": [
        "### TF-IDF (1-to-3) gram"
      ]
    },
    {
      "cell_type": "code",
      "metadata": {
        "id": "T5U1ycJ0H9Be"
      },
      "source": [
        "multigram_Tfidf_vect = TfidfVectorizer(max_features=4000,ngram_range=(1,3))\n",
        "multigram_Tfidf_vect.fit(all_data_for_tf)\n",
        "\n",
        "multigram_Train_X_Tfidf = trigram_Tfidf_vect.transform(tf_data_train)\n",
        "multigram_Test_X_Tfidf = trigram_Tfidf_vect.transform(tf_data_test)"
      ],
      "execution_count": 43,
      "outputs": []
    },
    {
      "cell_type": "code",
      "metadata": {
        "id": "NowG7nS6H9Be"
      },
      "source": [
        "#print(Tfidf_vect.vocabulary_) # to check the vocabulary"
      ],
      "execution_count": 44,
      "outputs": []
    },
    {
      "cell_type": "markdown",
      "metadata": {
        "id": "RMVkhLQlH9Be"
      },
      "source": [
        "#5- Train Models on TF IDF (original dataset)"
      ]
    },
    {
      "cell_type": "markdown",
      "metadata": {
        "id": "Q7F9YS4uH9Be"
      },
      "source": [
        "## 1.Naive Bayes"
      ]
    },
    {
      "cell_type": "code",
      "metadata": {
        "id": "dICrpEEeH9Be"
      },
      "source": [
        ""
      ],
      "execution_count": 44,
      "outputs": []
    },
    {
      "cell_type": "code",
      "metadata": {
        "id": "V-wBtDn9H9Be"
      },
      "source": [
        "import sklearn\n",
        "from sklearn.metrics import classification_report, confusion_matrix, accuracy_score"
      ],
      "execution_count": 45,
      "outputs": []
    },
    {
      "cell_type": "code",
      "metadata": {
        "id": "Vd18c7k4H9Be"
      },
      "source": [
        "from sklearn.naive_bayes import BernoulliNB\n",
        "\n",
        "# Defince NB classifiers\n",
        "Naive =BernoulliNB()\n",
        "bigram_Naive =BernoulliNB()\n",
        "trigram_Naive =BernoulliNB()\n",
        "multigram_Naive =BernoulliNB()\n"
      ],
      "execution_count": 46,
      "outputs": []
    },
    {
      "cell_type": "code",
      "metadata": {
        "colab": {
          "base_uri": "https://localhost:8080/"
        },
        "id": "J0RD7q9K_M_u",
        "outputId": "fb31ff4b-6406-4dd8-9911-461dc257545b"
      },
      "source": [
        "\n",
        "# fit the training dataset on the NB classifier\n",
        "Naive.fit(Train_X_Tfidf1,Train_Y)\n",
        "bigram_Naive.fit(bigram_Train_X_Tfidf,Train_Y)\n",
        "trigram_Naive.fit(trigram_Train_X_Tfidf,Train_Y)\n",
        "multigram_Naive.fit(multigram_Train_X_Tfidf,Train_Y)"
      ],
      "execution_count": 47,
      "outputs": [
        {
          "output_type": "execute_result",
          "data": {
            "text/plain": [
              "BernoulliNB(alpha=1.0, binarize=0.0, class_prior=None, fit_prior=True)"
            ]
          },
          "metadata": {
            "tags": []
          },
          "execution_count": 47
        }
      ]
    },
    {
      "cell_type": "code",
      "metadata": {
        "id": "LdlZy6ayH9Be"
      },
      "source": [
        "# predict the labels on Test dataset\n",
        "predictions_NB = Naive.predict(Test_X_Tfidf1)\n",
        "bigram_predictions_NB = bigram_Naive.predict(bigram_Test_X_Tfidf)\n",
        "trigram_predictions_NB = trigram_Naive.predict(trigram_Test_X_Tfidf)\n",
        "multigram_predictions_NB = trigram_Naive.predict(multigram_Test_X_Tfidf)"
      ],
      "execution_count": 48,
      "outputs": []
    },
    {
      "cell_type": "code",
      "metadata": {
        "id": "ANcPOLMfH9Be",
        "colab": {
          "base_uri": "https://localhost:8080/"
        },
        "outputId": "ea38488b-84c7-4c1f-8312-8581885a5ef2"
      },
      "source": [
        "#print(confusion_matrix(Test_X_Tfidf, Y_test))\n",
        "print(\"Naive Bayes Accuracy Score -> \",accuracy_score(predictions_NB, Test_Y)*100)\n",
        "print(\"Bi-gram Naive Bayes Accuracy Score -> \",accuracy_score(bigram_predictions_NB, Test_Y)*100)\n",
        "print(\"Tri-gram Naive Bayes Accuracy Score -> \",accuracy_score(trigram_predictions_NB, Test_Y)*100)\n",
        "print(\"Multi-gram Naive Bayes Accuracy Score -> \",accuracy_score(multigram_predictions_NB, Test_Y)*100)"
      ],
      "execution_count": 49,
      "outputs": [
        {
          "output_type": "stream",
          "text": [
            "Naive Bayes Accuracy Score ->  78.62068965517241\n",
            "Bi-gram Naive Bayes Accuracy Score ->  77.24137931034483\n",
            "Tri-gram Naive Bayes Accuracy Score ->  76.55172413793103\n",
            "Multi-gram Naive Bayes Accuracy Score ->  76.55172413793103\n"
          ],
          "name": "stdout"
        }
      ]
    },
    {
      "cell_type": "code",
      "metadata": {
        "id": "dNbZCZ0QH9Be",
        "colab": {
          "base_uri": "https://localhost:8080/"
        },
        "outputId": "65e02d7a-21dc-4851-ca0c-d4277d85cb12"
      },
      "source": [
        "print(\"Naive Bayes Classification Report\")\n",
        "print(classification_report(Test_Y,predictions_NB, digits=4))\n",
        "print(\"------------------------------------------\")\n",
        "\n",
        "print(\"Bi-gram Naive Bayes Classification Report\")\n",
        "print(classification_report(Test_Y,bigram_predictions_NB, digits=4))\n",
        "\n",
        "print(\"------------------------------------------\")\n",
        "\n",
        "print(\"Tri-gram Naive Bayes Classification Report\")\n",
        "print(classification_report(Test_Y,trigram_predictions_NB, digits=4))\n",
        "\n",
        "print(\"------------------------------------------\")\n",
        "\n",
        "print(\"Multi-gram Naive Bayes Classification Report\")\n",
        "print(classification_report(Test_Y,multigram_predictions_NB, digits=4))"
      ],
      "execution_count": 50,
      "outputs": [
        {
          "output_type": "stream",
          "text": [
            "Naive Bayes Classification Report\n",
            "              precision    recall  f1-score   support\n",
            "\n",
            "           0     0.8017    0.9327    0.8622       104\n",
            "           1     0.7083    0.4146    0.5231        41\n",
            "\n",
            "    accuracy                         0.7862       145\n",
            "   macro avg     0.7550    0.6737    0.6926       145\n",
            "weighted avg     0.7753    0.7862    0.7663       145\n",
            "\n",
            "------------------------------------------\n",
            "Bi-gram Naive Bayes Classification Report\n",
            "              precision    recall  f1-score   support\n",
            "\n",
            "           0     0.7795    0.9519    0.8571       104\n",
            "           1     0.7222    0.3171    0.4407        41\n",
            "\n",
            "    accuracy                         0.7724       145\n",
            "   macro avg     0.7509    0.6345    0.6489       145\n",
            "weighted avg     0.7633    0.7724    0.7394       145\n",
            "\n",
            "------------------------------------------\n",
            "Tri-gram Naive Bayes Classification Report\n",
            "              precision    recall  f1-score   support\n",
            "\n",
            "           0     0.7652    0.9712    0.8559       104\n",
            "           1     0.7692    0.2439    0.3704        41\n",
            "\n",
            "    accuracy                         0.7655       145\n",
            "   macro avg     0.7672    0.6075    0.6132       145\n",
            "weighted avg     0.7663    0.7655    0.7186       145\n",
            "\n",
            "------------------------------------------\n",
            "Multi-gram Naive Bayes Classification Report\n",
            "              precision    recall  f1-score   support\n",
            "\n",
            "           0     0.7652    0.9712    0.8559       104\n",
            "           1     0.7692    0.2439    0.3704        41\n",
            "\n",
            "    accuracy                         0.7655       145\n",
            "   macro avg     0.7672    0.6075    0.6132       145\n",
            "weighted avg     0.7663    0.7655    0.7186       145\n",
            "\n"
          ],
          "name": "stdout"
        }
      ]
    },
    {
      "cell_type": "markdown",
      "metadata": {
        "id": "PfGvn5LeH9Be"
      },
      "source": [
        "## 2. SVM"
      ]
    },
    {
      "cell_type": "code",
      "metadata": {
        "id": "9Jv6iAhBH9Be"
      },
      "source": [
        "from sklearn import svm\n",
        "# Classifier - Algorithm - SVM\n",
        "SVM =svm.SVC(C=1.0, kernel='linear', degree=3, gamma='auto')\n",
        "bigram_SVM=svm.SVC(C=1.0, kernel='linear', degree=3, gamma='auto')\n",
        "trigram_SVM =svm.SVC(C=1.0, kernel='linear', degree=3, gamma='auto')\n",
        "multigram_SVM =svm.SVC(C=1.0, kernel='linear', degree=3, gamma='auto')\n",
        "\n"
      ],
      "execution_count": 51,
      "outputs": []
    },
    {
      "cell_type": "code",
      "metadata": {
        "id": "O_FWXIoiH9Be",
        "colab": {
          "base_uri": "https://localhost:8080/"
        },
        "outputId": "0a962ad7-834a-4e58-e56c-28174828f567"
      },
      "source": [
        "# fit the training dataset on the classifier\n",
        "\n",
        "SVM.fit(Train_X_Tfidf1,Train_Y)\n",
        "bigram_SVM.fit(bigram_Train_X_Tfidf,Train_Y)\n",
        "trigram_SVM.fit(trigram_Train_X_Tfidf,Train_Y)\n",
        "multigram_SVM.fit(multigram_Train_X_Tfidf,Train_Y)"
      ],
      "execution_count": 52,
      "outputs": [
        {
          "output_type": "execute_result",
          "data": {
            "text/plain": [
              "SVC(C=1.0, break_ties=False, cache_size=200, class_weight=None, coef0=0.0,\n",
              "    decision_function_shape='ovr', degree=3, gamma='auto', kernel='linear',\n",
              "    max_iter=-1, probability=False, random_state=None, shrinking=True,\n",
              "    tol=0.001, verbose=False)"
            ]
          },
          "metadata": {
            "tags": []
          },
          "execution_count": 52
        }
      ]
    },
    {
      "cell_type": "code",
      "metadata": {
        "id": "KqxDG7ALH9Be"
      },
      "source": [
        "# predict the labels on Test dataset\n",
        "predictions_SVM = SVM.predict(Test_X_Tfidf1)\n",
        "bigram_predictions_SVM = bigram_SVM.predict(bigram_Test_X_Tfidf)\n",
        "trigram_predictions_SVM = trigram_SVM.predict(trigram_Test_X_Tfidf)\n",
        "multigram_predictions_SVM = trigram_SVM.predict(multigram_Test_X_Tfidf)"
      ],
      "execution_count": 53,
      "outputs": []
    },
    {
      "cell_type": "code",
      "metadata": {
        "id": "XMfgczdnH9Bf",
        "colab": {
          "base_uri": "https://localhost:8080/"
        },
        "outputId": "4d63f732-1aad-442f-95d0-d8da7eeb2d78"
      },
      "source": [
        "\n",
        "\n",
        "print(\"Uni gram model SVM Classification Report\")\n",
        "print(classification_report(Test_Y,predictions_SVM, digits=4))\n",
        "print(\"------------------------------------------\")\n",
        "\n",
        "print(\"Bi-gram SVM Classification Report\")\n",
        "print(classification_report(Test_Y,bigram_predictions_SVM, digits=4))\n",
        "\n",
        "print(\"------------------------------------------\")\n",
        "\n",
        "print(\"Tri-gram SVM Classification Report\")\n",
        "print(classification_report(Test_Y,trigram_predictions_SVM, digits=4))\n",
        "\n",
        "print(\"------------------------------------------\")\n",
        "\n",
        "print(\"Multi-gram SVM Classification Report\")\n",
        "print(classification_report(Test_Y,multigram_predictions_SVM, digits=4))"
      ],
      "execution_count": 54,
      "outputs": [
        {
          "output_type": "stream",
          "text": [
            "Uni gram model SVM Classification Report\n",
            "              precision    recall  f1-score   support\n",
            "\n",
            "           0     0.8829    0.9423    0.9116       104\n",
            "           1     0.8235    0.6829    0.7467        41\n",
            "\n",
            "    accuracy                         0.8690       145\n",
            "   macro avg     0.8532    0.8126    0.8291       145\n",
            "weighted avg     0.8661    0.8690    0.8650       145\n",
            "\n",
            "------------------------------------------\n",
            "Bi-gram SVM Classification Report\n",
            "              precision    recall  f1-score   support\n",
            "\n",
            "           0     0.8632    0.9712    0.9140       104\n",
            "           1     0.8929    0.6098    0.7246        41\n",
            "\n",
            "    accuracy                         0.8690       145\n",
            "   macro avg     0.8781    0.7905    0.8193       145\n",
            "weighted avg     0.8716    0.8690    0.8605       145\n",
            "\n",
            "------------------------------------------\n",
            "Tri-gram SVM Classification Report\n",
            "              precision    recall  f1-score   support\n",
            "\n",
            "           0     0.7574    0.9904    0.8583       104\n",
            "           1     0.8889    0.1951    0.3200        41\n",
            "\n",
            "    accuracy                         0.7655       145\n",
            "   macro avg     0.8231    0.5928    0.5892       145\n",
            "weighted avg     0.7945    0.7655    0.7061       145\n",
            "\n",
            "------------------------------------------\n",
            "Multi-gram SVM Classification Report\n",
            "              precision    recall  f1-score   support\n",
            "\n",
            "           0     0.7574    0.9904    0.8583       104\n",
            "           1     0.8889    0.1951    0.3200        41\n",
            "\n",
            "    accuracy                         0.7655       145\n",
            "   macro avg     0.8231    0.5928    0.5892       145\n",
            "weighted avg     0.7945    0.7655    0.7061       145\n",
            "\n"
          ],
          "name": "stdout"
        }
      ]
    },
    {
      "cell_type": "markdown",
      "metadata": {
        "id": "Spz8QPI5H9Bf"
      },
      "source": [
        "## 3. Logistic Regression"
      ]
    },
    {
      "cell_type": "code",
      "metadata": {
        "id": "TGZZoEIPH9Bf"
      },
      "source": [
        "from sklearn.linear_model import SGDClassifier\n",
        "\n",
        "# Define Log Reg classifiers\n",
        "Log_Reg = SGDClassifier(loss='log', random_state=123)\n",
        "bigram_Log_Reg = SGDClassifier(loss='log', random_state=123)\n",
        "trigram_Log_Reg = SGDClassifier(loss='log', random_state=123)\n",
        "multigram_Log_Reg = SGDClassifier(loss='log', random_state=123)\n",
        "\n"
      ],
      "execution_count": 55,
      "outputs": []
    },
    {
      "cell_type": "code",
      "metadata": {
        "id": "tzkdTfJvH9Bf",
        "colab": {
          "base_uri": "https://localhost:8080/"
        },
        "outputId": "18066aa9-2c1c-4afc-ede4-ac0e47e33cb4"
      },
      "source": [
        "# fit the training dataset on the Logistic Regression models\n",
        "Log_Reg.fit(Train_X_Tfidf1,Train_Y)\n",
        "bigram_Log_Reg.fit(bigram_Train_X_Tfidf,Train_Y)\n",
        "trigram_Log_Reg.fit(trigram_Train_X_Tfidf,Train_Y)\n",
        "multigram_Log_Reg.fit(multigram_Train_X_Tfidf,Train_Y)\n"
      ],
      "execution_count": 56,
      "outputs": [
        {
          "output_type": "execute_result",
          "data": {
            "text/plain": [
              "SGDClassifier(alpha=0.0001, average=False, class_weight=None,\n",
              "              early_stopping=False, epsilon=0.1, eta0=0.0, fit_intercept=True,\n",
              "              l1_ratio=0.15, learning_rate='optimal', loss='log', max_iter=1000,\n",
              "              n_iter_no_change=5, n_jobs=None, penalty='l2', power_t=0.5,\n",
              "              random_state=123, shuffle=True, tol=0.001,\n",
              "              validation_fraction=0.1, verbose=0, warm_start=False)"
            ]
          },
          "metadata": {
            "tags": []
          },
          "execution_count": 56
        }
      ]
    },
    {
      "cell_type": "code",
      "metadata": {
        "id": "RfLbJwAFH9Bf"
      },
      "source": [
        "# predict the labels on Test dataset\n",
        "predictions_Log_reg = Log_Reg.predict(Test_X_Tfidf1)\n",
        "bigram_predictions_Log_reg = bigram_Log_Reg.predict(bigram_Test_X_Tfidf)\n",
        "trigram_predictions_Log_reg = trigram_Log_Reg.predict(trigram_Test_X_Tfidf)\n",
        "multigram_predictions_Log_reg = trigram_Log_Reg.predict(multigram_Test_X_Tfidf)\n"
      ],
      "execution_count": 57,
      "outputs": []
    },
    {
      "cell_type": "code",
      "metadata": {
        "id": "6M6P3ZsQH9Bf",
        "colab": {
          "base_uri": "https://localhost:8080/"
        },
        "outputId": "899f74db-22d5-4a1c-fb00-3deeaefa5f1f"
      },
      "source": [
        "print(\"Logistic Regression Accuracy Score -> \",accuracy_score(predictions_Log_reg, Test_Y)*100)"
      ],
      "execution_count": 58,
      "outputs": [
        {
          "output_type": "stream",
          "text": [
            "Logistic Regression Accuracy Score ->  87.58620689655172\n"
          ],
          "name": "stdout"
        }
      ]
    },
    {
      "cell_type": "code",
      "metadata": {
        "id": "Y8LheSnRH9Bf",
        "colab": {
          "base_uri": "https://localhost:8080/"
        },
        "outputId": "1e87a384-9045-4e67-bce6-2911e2c28a65"
      },
      "source": [
        "print(\"Uni-gram Logistic Regression Classification Reports\")\n",
        "\n",
        "print(classification_report(Test_Y,predictions_Log_reg, digits=4))\n",
        "print(\"------------------------------------------\")\n",
        "\n",
        "print(\"Bi-gram Logistic Regression Classification Report\")\n",
        "print(classification_report(Test_Y,bigram_predictions_Log_reg, digits=4))\n",
        "\n",
        "print(\"------------------------------------------\")\n",
        "\n",
        "print(\"Tri-gram Logistic Regression Classification Report\")\n",
        "print(classification_report(Test_Y,trigram_predictions_Log_reg, digits=4))\n",
        "\n",
        "print(\"------------------------------------------\")\n",
        "\n",
        "print(\"Multi-gram Logistic Regression Classification Report\")\n",
        "print(classification_report(Test_Y,multigram_predictions_Log_reg, digits=4))\n"
      ],
      "execution_count": 59,
      "outputs": [
        {
          "output_type": "stream",
          "text": [
            "Uni-gram Logistic Regression Classification Reports\n",
            "              precision    recall  f1-score   support\n",
            "\n",
            "           0     0.9057    0.9231    0.9143       104\n",
            "           1     0.7949    0.7561    0.7750        41\n",
            "\n",
            "    accuracy                         0.8759       145\n",
            "   macro avg     0.8503    0.8396    0.8446       145\n",
            "weighted avg     0.8743    0.8759    0.8749       145\n",
            "\n",
            "------------------------------------------\n",
            "Bi-gram Logistic Regression Classification Report\n",
            "              precision    recall  f1-score   support\n",
            "\n",
            "           0     0.8621    0.9615    0.9091       104\n",
            "           1     0.8621    0.6098    0.7143        41\n",
            "\n",
            "    accuracy                         0.8621       145\n",
            "   macro avg     0.8621    0.7856    0.8117       145\n",
            "weighted avg     0.8621    0.8621    0.8540       145\n",
            "\n",
            "------------------------------------------\n",
            "Tri-gram Logistic Regression Classification Report\n",
            "              precision    recall  f1-score   support\n",
            "\n",
            "           0     0.7612    0.9808    0.8571       104\n",
            "           1     0.8182    0.2195    0.3462        41\n",
            "\n",
            "    accuracy                         0.7655       145\n",
            "   macro avg     0.7897    0.6001    0.6016       145\n",
            "weighted avg     0.7773    0.7655    0.7127       145\n",
            "\n",
            "------------------------------------------\n",
            "Multi-gram Logistic Regression Classification Report\n",
            "              precision    recall  f1-score   support\n",
            "\n",
            "           0     0.7612    0.9808    0.8571       104\n",
            "           1     0.8182    0.2195    0.3462        41\n",
            "\n",
            "    accuracy                         0.7655       145\n",
            "   macro avg     0.7897    0.6001    0.6016       145\n",
            "weighted avg     0.7773    0.7655    0.7127       145\n",
            "\n"
          ],
          "name": "stdout"
        }
      ]
    },
    {
      "cell_type": "markdown",
      "metadata": {
        "id": "Lyku3w-HPROz"
      },
      "source": [
        "# 6- Increase data set (SMOTE)"
      ]
    },
    {
      "cell_type": "markdown",
      "metadata": {
        "id": "8zvqvh_WH9Bg"
      },
      "source": [
        "### Increase the minority class using SMOTE\n"
      ]
    },
    {
      "cell_type": "code",
      "metadata": {
        "id": "toTRIwo7H9Bg",
        "colab": {
          "base_uri": "https://localhost:8080/"
        },
        "outputId": "0ca86001-30cb-4bcb-a2bc-cfa21fe3c005"
      },
      "source": [
        "pip install imbalanced-learn"
      ],
      "execution_count": 60,
      "outputs": [
        {
          "output_type": "stream",
          "text": [
            "Requirement already satisfied: imbalanced-learn in /usr/local/lib/python3.6/dist-packages (0.4.3)\n",
            "Requirement already satisfied: scikit-learn>=0.20 in /usr/local/lib/python3.6/dist-packages (from imbalanced-learn) (0.22.2.post1)\n",
            "Requirement already satisfied: numpy>=1.8.2 in /usr/local/lib/python3.6/dist-packages (from imbalanced-learn) (1.18.5)\n",
            "Requirement already satisfied: scipy>=0.13.3 in /usr/local/lib/python3.6/dist-packages (from imbalanced-learn) (1.4.1)\n",
            "Requirement already satisfied: joblib>=0.11 in /usr/local/lib/python3.6/dist-packages (from scikit-learn>=0.20->imbalanced-learn) (0.17.0)\n"
          ],
          "name": "stdout"
        }
      ]
    },
    {
      "cell_type": "code",
      "metadata": {
        "id": "4LjfWTpIH9Bg",
        "colab": {
          "base_uri": "https://localhost:8080/"
        },
        "outputId": "a5120491-cf3e-4088-9d02-aee058b94f2a"
      },
      "source": [
        "from imblearn.over_sampling import SMOTE"
      ],
      "execution_count": 61,
      "outputs": [
        {
          "output_type": "stream",
          "text": [
            "/usr/local/lib/python3.6/dist-packages/sklearn/externals/six.py:31: FutureWarning: The module is deprecated in version 0.21 and will be removed in version 0.23 since we've dropped support for Python 2.7. Please rely on the official version of six (https://pypi.org/project/six/).\n",
            "  \"(https://pypi.org/project/six/).\", FutureWarning)\n",
            "/usr/local/lib/python3.6/dist-packages/sklearn/utils/deprecation.py:144: FutureWarning: The sklearn.neighbors.base module is  deprecated in version 0.22 and will be removed in version 0.24. The corresponding classes / functions should instead be imported from sklearn.neighbors. Anything that cannot be imported from sklearn.neighbors is now part of the private API.\n",
            "  warnings.warn(message, FutureWarning)\n"
          ],
          "name": "stderr"
        }
      ]
    },
    {
      "cell_type": "code",
      "metadata": {
        "id": "3tHUc_2aH9Bg"
      },
      "source": [
        "sm = SMOTE(random_state =653)"
      ],
      "execution_count": 62,
      "outputs": []
    },
    {
      "cell_type": "code",
      "metadata": {
        "id": "99p5zuq4H9Bg"
      },
      "source": [
        "# transform all data to TF_idf form\n",
        "Combined_Tfidf = Tfidf_vect.transform(all_data_for_tf).toarray()\n",
        "labels = Y"
      ],
      "execution_count": 63,
      "outputs": []
    },
    {
      "cell_type": "markdown",
      "metadata": {
        "id": "7JGM5TpCH9Bh"
      },
      "source": [
        "### Increase unigram data"
      ]
    },
    {
      "cell_type": "code",
      "metadata": {
        "id": "r9kGa827H9Bh",
        "colab": {
          "base_uri": "https://localhost:8080/"
        },
        "outputId": "c66e4c96-f70c-4b2e-c66f-817b36fcf90f"
      },
      "source": [
        "# increase TF-IDF data \n",
        "unigram_X_train_inc, unigram_y_train_inc= sm.fit_sample(Train_X_Tfidf1,Train_Y)\n",
        "unigram_X_test_inc, unigram_y_test_inc= sm.fit_sample(Test_X_Tfidf1,Test_Y)\n"
      ],
      "execution_count": 64,
      "outputs": [
        {
          "output_type": "stream",
          "text": [
            "/usr/local/lib/python3.6/dist-packages/sklearn/utils/deprecation.py:87: FutureWarning: Function safe_indexing is deprecated; safe_indexing is deprecated in version 0.22 and will be removed in version 0.24.\n",
            "  warnings.warn(msg, category=FutureWarning)\n"
          ],
          "name": "stderr"
        }
      ]
    },
    {
      "cell_type": "markdown",
      "metadata": {
        "id": "bZ8A8f6SH9Bh"
      },
      "source": [
        "### Increase bi-gram data"
      ]
    },
    {
      "cell_type": "code",
      "metadata": {
        "id": "6hgY0NY9H9Bh",
        "colab": {
          "base_uri": "https://localhost:8080/"
        },
        "outputId": "d709a763-31a1-4b19-aa7d-553824bbb054"
      },
      "source": [
        "# increase TF-IDF bigram data \n",
        "bigram_X_train_inc, bigram_y_train_inc= sm.fit_sample(bigram_Train_X_Tfidf,Train_Y)\n",
        "bigram_X_test_inc, bigram_y_test_inc= sm.fit_sample(bigram_Test_X_Tfidf,Test_Y)"
      ],
      "execution_count": 65,
      "outputs": [
        {
          "output_type": "stream",
          "text": [
            "/usr/local/lib/python3.6/dist-packages/sklearn/utils/deprecation.py:87: FutureWarning: Function safe_indexing is deprecated; safe_indexing is deprecated in version 0.22 and will be removed in version 0.24.\n",
            "  warnings.warn(msg, category=FutureWarning)\n"
          ],
          "name": "stderr"
        }
      ]
    },
    {
      "cell_type": "markdown",
      "metadata": {
        "id": "BtTP5P0XH9Bh"
      },
      "source": [
        "### Increase tri-gram data"
      ]
    },
    {
      "cell_type": "code",
      "metadata": {
        "id": "bKnxUdIyH9Bh",
        "colab": {
          "base_uri": "https://localhost:8080/"
        },
        "outputId": "984915f3-7713-484b-b523-3ec4e24da67b"
      },
      "source": [
        "trigram_X_train_inc, trigram_y_train_inc= sm.fit_sample(trigram_Train_X_Tfidf,Train_Y)\n",
        "trigram_X_test_inc, trigram_y_test_inc= sm.fit_sample(trigram_Test_X_Tfidf,Test_Y)\n"
      ],
      "execution_count": 66,
      "outputs": [
        {
          "output_type": "stream",
          "text": [
            "/usr/local/lib/python3.6/dist-packages/sklearn/utils/deprecation.py:87: FutureWarning: Function safe_indexing is deprecated; safe_indexing is deprecated in version 0.22 and will be removed in version 0.24.\n",
            "  warnings.warn(msg, category=FutureWarning)\n"
          ],
          "name": "stderr"
        }
      ]
    },
    {
      "cell_type": "markdown",
      "metadata": {
        "id": "QfA_DwzwH9Bh"
      },
      "source": [
        "### Increase (1-to-3)gram data"
      ]
    },
    {
      "cell_type": "code",
      "metadata": {
        "id": "Hb2WPTgLH9Bh",
        "colab": {
          "base_uri": "https://localhost:8080/"
        },
        "outputId": "ea5044b7-640f-449e-b6d8-bd6a4de6cec0"
      },
      "source": [
        "multigram_X_train_inc, multigram_y_train_inc= sm.fit_sample(multigram_Train_X_Tfidf,Train_Y)\n",
        "multigram_X_test_inc, multigram_y_test_inc= sm.fit_sample(multigram_Test_X_Tfidf,Test_Y)"
      ],
      "execution_count": 67,
      "outputs": [
        {
          "output_type": "stream",
          "text": [
            "/usr/local/lib/python3.6/dist-packages/sklearn/utils/deprecation.py:87: FutureWarning: Function safe_indexing is deprecated; safe_indexing is deprecated in version 0.22 and will be removed in version 0.24.\n",
            "  warnings.warn(msg, category=FutureWarning)\n"
          ],
          "name": "stderr"
        }
      ]
    },
    {
      "cell_type": "code",
      "metadata": {
        "id": "39txQckJH9Bh"
      },
      "source": [
        ""
      ],
      "execution_count": 67,
      "outputs": []
    },
    {
      "cell_type": "markdown",
      "metadata": {
        "id": "WHr2HeA1H9Bh"
      },
      "source": [
        "### Check count of labels before and after inc"
      ]
    },
    {
      "cell_type": "code",
      "metadata": {
        "id": "uRq1vpA_H9Bh",
        "colab": {
          "base_uri": "https://localhost:8080/"
        },
        "outputId": "f949c64d-7f39-40ad-e24d-6eb1648d61b1"
      },
      "source": [
        "# check count of labels before smote\n",
        "count_1 = 0\n",
        "count_0 = 0\n",
        "for i in Train_Y:\n",
        "    if i ==1:\n",
        "        count_1 = count_1 + 1\n",
        "    else:\n",
        "        count_0 = count_0 + 1\n",
        "for i in Test_Y:\n",
        "    if i ==1:\n",
        "        count_1 = count_1 + 1\n",
        "    else:\n",
        "        count_0 = count_0 + 1\n",
        "print(\"before smote numeber of 0 labels = \", count_0)\n",
        "print(\"before smote numeber of 1 labels = \", count_1)"
      ],
      "execution_count": 68,
      "outputs": [
        {
          "output_type": "stream",
          "text": [
            "before smote numeber of 0 labels =  347\n",
            "before smote numeber of 1 labels =  136\n"
          ],
          "name": "stdout"
        }
      ]
    },
    {
      "cell_type": "code",
      "metadata": {
        "id": "FW-jZrI2H9Bh",
        "colab": {
          "base_uri": "https://localhost:8080/"
        },
        "outputId": "b18cf7ab-5dff-45c9-b59f-ecf4b2b2666a"
      },
      "source": [
        "# check count of labels after smote\n",
        "count_1 = 0\n",
        "count_0 = 0\n",
        "for i in multigram_y_train_inc:\n",
        "    if i ==1:\n",
        "        count_1 = count_1 + 1\n",
        "    else:\n",
        "        count_0 = count_0 + 1\n",
        "for i in multigram_y_test_inc:\n",
        "    if i ==1:\n",
        "        count_1 = count_1 + 1\n",
        "    else:\n",
        "        count_0 = count_0 + 1\n",
        "print(\"After smote numeber of 0 labels = \", count_0)\n",
        "print(\"After smote numeber of 1 labels = \", count_1)"
      ],
      "execution_count": 69,
      "outputs": [
        {
          "output_type": "stream",
          "text": [
            "After smote numeber of 0 labels =  347\n",
            "After smote numeber of 1 labels =  347\n"
          ],
          "name": "stdout"
        }
      ]
    },
    {
      "cell_type": "code",
      "metadata": {
        "id": "ilMICEMtH9Bh",
        "colab": {
          "base_uri": "https://localhost:8080/"
        },
        "outputId": "4ba7ffeb-34f0-47e2-f83a-e88a959882bf"
      },
      "source": [
        "# run sm on all data to balance data\n",
        "X_train_inc, y_train_inc = sm.fit_sample(Combined_Tfidf, labels)"
      ],
      "execution_count": 70,
      "outputs": [
        {
          "output_type": "stream",
          "text": [
            "/usr/local/lib/python3.6/dist-packages/sklearn/utils/deprecation.py:87: FutureWarning: Function safe_indexing is deprecated; safe_indexing is deprecated in version 0.22 and will be removed in version 0.24.\n",
            "  warnings.warn(msg, category=FutureWarning)\n"
          ],
          "name": "stderr"
        }
      ]
    },
    {
      "cell_type": "code",
      "metadata": {
        "id": "KhBeazWIH9Bh",
        "colab": {
          "base_uri": "https://localhost:8080/"
        },
        "outputId": "df95676b-9f9f-475a-bb88-304e0277f9ce"
      },
      "source": [
        "# check count of labels before smote\n",
        "count_1 = 0\n",
        "count_0 = 0\n",
        "for i in labels:\n",
        "    if i ==1:\n",
        "        count_1 = count_1 + 1\n",
        "    else:\n",
        "        count_0 = count_0 + 1\n",
        "print(\"before smote numeber of 0 labels = \", count_0)\n",
        "print(\"before smote numeber of 1 labels = \", count_1)"
      ],
      "execution_count": 71,
      "outputs": [
        {
          "output_type": "stream",
          "text": [
            "before smote numeber of 0 labels =  347\n",
            "before smote numeber of 1 labels =  136\n"
          ],
          "name": "stdout"
        }
      ]
    },
    {
      "cell_type": "code",
      "metadata": {
        "id": "yudHeqT5H9Bh",
        "colab": {
          "base_uri": "https://localhost:8080/"
        },
        "outputId": "fac0ee6c-c568-4f4b-d200-a1e3b112d323"
      },
      "source": [
        "# check count of labels after smote\n",
        "count_1 = 0\n",
        "count_0 = 0\n",
        "for i in y_train_inc:\n",
        "    if i ==1:\n",
        "        count_1 = count_1 + 1\n",
        "    else:\n",
        "        count_0 = count_0 + 1\n",
        "print(\"before smote numeber of 0 labels = \", count_0)\n",
        "print(\"before smote numeber of 1 labels = \", count_1)"
      ],
      "execution_count": 72,
      "outputs": [
        {
          "output_type": "stream",
          "text": [
            "before smote numeber of 0 labels =  347\n",
            "before smote numeber of 1 labels =  347\n"
          ],
          "name": "stdout"
        }
      ]
    },
    {
      "cell_type": "code",
      "metadata": {
        "id": "IgTk3cukH9Bh"
      },
      "source": [
        "# split balanced data into train and test\n",
        "X_train,X_test,Y_train, Y_test = train_test_split(X_train_inc,y_train_inc,test_size= 0.28,random_state = 653)"
      ],
      "execution_count": 73,
      "outputs": []
    },
    {
      "cell_type": "code",
      "metadata": {
        "id": "k97Pe4D_H9Bh",
        "colab": {
          "base_uri": "https://localhost:8080/"
        },
        "outputId": "d1523f22-5fda-4080-b2d5-fd67bab60b61"
      },
      "source": [
        "print(len(X_train))\n",
        "print(len(X_test))"
      ],
      "execution_count": 74,
      "outputs": [
        {
          "output_type": "stream",
          "text": [
            "499\n",
            "195\n"
          ],
          "name": "stdout"
        }
      ]
    },
    {
      "cell_type": "markdown",
      "metadata": {
        "id": "fxUV3ZwfH9Bh"
      },
      "source": [
        ""
      ]
    },
    {
      "cell_type": "markdown",
      "metadata": {
        "id": "R5_GddhkH9Bh"
      },
      "source": [
        "#7- Run models on increased TF_IDF dataset"
      ]
    },
    {
      "cell_type": "markdown",
      "metadata": {
        "id": "Y_j134OwH9Bh"
      },
      "source": [
        "#### 1.SVM"
      ]
    },
    {
      "cell_type": "code",
      "metadata": {
        "id": "ldcsPZCHH9Bh"
      },
      "source": [
        "# Run SVM on bigger data to check performance\n",
        "from sklearn import svm\n",
        "# Classifier - Algorithm - SVM\n",
        "# Initialize the Logistic Regression classifier\n",
        "SVM = svm.SVC(C=1.0, kernel='linear', degree=3, gamma='auto')\n",
        "bigram_SVM = svm.SVC(C=1.0, kernel='linear', degree=3, gamma='auto')\n",
        "trigram_SVM = svm.SVC(C=1.0, kernel='linear', degree=3, gamma='auto')\n",
        "multigram_SVM = svm.SVC(C=1.0, kernel='linear', degree=3, gamma='auto')\n",
        "\n"
      ],
      "execution_count": 75,
      "outputs": []
    },
    {
      "cell_type": "code",
      "metadata": {
        "id": "EZb-uFdvFUIe",
        "colab": {
          "base_uri": "https://localhost:8080/"
        },
        "outputId": "2aa70f9b-f6bf-410f-988f-769a1f4128e1"
      },
      "source": [
        "\n",
        "# fit the training dataset on the classifier\n",
        "SVM.fit(unigram_X_train_inc, unigram_y_train_inc)\n",
        "bigram_SVM.fit(bigram_X_train_inc, bigram_y_train_inc)\n",
        "trigram_SVM.fit(trigram_X_train_inc, trigram_y_train_inc)\n",
        "multigram_SVM.fit(multigram_X_train_inc, multigram_y_train_inc)"
      ],
      "execution_count": 76,
      "outputs": [
        {
          "output_type": "execute_result",
          "data": {
            "text/plain": [
              "SVC(C=1.0, break_ties=False, cache_size=200, class_weight=None, coef0=0.0,\n",
              "    decision_function_shape='ovr', degree=3, gamma='auto', kernel='linear',\n",
              "    max_iter=-1, probability=False, random_state=None, shrinking=True,\n",
              "    tol=0.001, verbose=False)"
            ]
          },
          "metadata": {
            "tags": []
          },
          "execution_count": 76
        }
      ]
    },
    {
      "cell_type": "code",
      "metadata": {
        "id": "OPHl0O_7H9Bh"
      },
      "source": [
        "# predict the labels on validation dataset\n",
        "predictions_SVM = SVM.predict(unigram_X_test_inc)\n",
        "bigram_predictions_SVM = bigram_SVM.predict(bigram_X_test_inc)\n",
        "trigram_predictions_SVM = trigram_SVM.predict(trigram_X_test_inc)\n",
        "multigram_predictions_SVM = multigram_SVM.predict(multigram_X_test_inc)\n"
      ],
      "execution_count": 77,
      "outputs": []
    },
    {
      "cell_type": "code",
      "metadata": {
        "id": "eLoxm31WH9Bh",
        "colab": {
          "base_uri": "https://localhost:8080/"
        },
        "outputId": "2a1177f8-5bb7-4baa-a4c1-d626adb8ccfd"
      },
      "source": [
        "print(\"uni-gram classification report\")\n",
        "print(classification_report(unigram_y_test_inc,predictions_SVM, digits=4))\n",
        "print(\"--------------------------------------\")\n",
        "print(\"Bi-gram classification report\")\n",
        "print(classification_report(bigram_y_test_inc,bigram_predictions_SVM, digits=4))\n",
        "\n",
        "print(\"--------------------------------------\")\n",
        "print(\"Tri-gram classification report\")\n",
        "print(classification_report(trigram_y_test_inc,trigram_predictions_SVM, digits=4))\n",
        "\n",
        "print(\"--------------------------------------\")\n",
        "print(\"Multi-gram classification report\")\n",
        "print(classification_report(multigram_y_test_inc,multigram_predictions_SVM, digits=4))"
      ],
      "execution_count": 78,
      "outputs": [
        {
          "output_type": "stream",
          "text": [
            "uni-gram classification report\n",
            "              precision    recall  f1-score   support\n",
            "\n",
            "           0     0.8421    0.9231    0.8807       104\n",
            "           1     0.9149    0.8269    0.8687       104\n",
            "\n",
            "    accuracy                         0.8750       208\n",
            "   macro avg     0.8785    0.8750    0.8747       208\n",
            "weighted avg     0.8785    0.8750    0.8747       208\n",
            "\n",
            "--------------------------------------\n",
            "Bi-gram classification report\n",
            "              precision    recall  f1-score   support\n",
            "\n",
            "           0     0.7874    0.9615    0.8658       104\n",
            "           1     0.9506    0.7404    0.8324       104\n",
            "\n",
            "    accuracy                         0.8510       208\n",
            "   macro avg     0.8690    0.8510    0.8491       208\n",
            "weighted avg     0.8690    0.8510    0.8491       208\n",
            "\n",
            "--------------------------------------\n",
            "Tri-gram classification report\n",
            "              precision    recall  f1-score   support\n",
            "\n",
            "           0     0.5698    0.9808    0.7208       104\n",
            "           1     0.9310    0.2596    0.4060       104\n",
            "\n",
            "    accuracy                         0.6202       208\n",
            "   macro avg     0.7504    0.6202    0.5634       208\n",
            "weighted avg     0.7504    0.6202    0.5634       208\n",
            "\n",
            "--------------------------------------\n",
            "Multi-gram classification report\n",
            "              precision    recall  f1-score   support\n",
            "\n",
            "           0     0.5698    0.9808    0.7208       104\n",
            "           1     0.9310    0.2596    0.4060       104\n",
            "\n",
            "    accuracy                         0.6202       208\n",
            "   macro avg     0.7504    0.6202    0.5634       208\n",
            "weighted avg     0.7504    0.6202    0.5634       208\n",
            "\n"
          ],
          "name": "stdout"
        }
      ]
    },
    {
      "cell_type": "markdown",
      "metadata": {
        "id": "ltYXhmMcH9Bh"
      },
      "source": [
        "#### 2.Naive Bayes"
      ]
    },
    {
      "cell_type": "code",
      "metadata": {
        "id": "RZv3pcrIH9Bh"
      },
      "source": [
        "from sklearn.naive_bayes import MultinomialNB\n",
        "\n",
        "# Define the NB classifiers\n",
        "Naive =BernoulliNB()\n",
        "bigram_Naive =BernoulliNB()\n",
        "triigram_Naive =BernoulliNB()\n",
        "multigram_Naive =BernoulliNB()\n"
      ],
      "execution_count": 79,
      "outputs": []
    },
    {
      "cell_type": "code",
      "metadata": {
        "id": "irP3NQ_iRGK1",
        "colab": {
          "base_uri": "https://localhost:8080/"
        },
        "outputId": "5cf37d45-9580-487c-f3a5-b5302cdcd4be"
      },
      "source": [
        "\n",
        "# fit the training dataset on the NB classifier\n",
        "Naive.fit(unigram_X_train_inc, unigram_y_train_inc)\n",
        "bigram_Naive.fit(bigram_X_train_inc, bigram_y_train_inc)\n",
        "trigram_Naive.fit(trigram_X_train_inc, trigram_y_train_inc)\n",
        "multigram_Naive.fit(multigram_X_train_inc, multigram_y_train_inc)\n"
      ],
      "execution_count": 80,
      "outputs": [
        {
          "output_type": "execute_result",
          "data": {
            "text/plain": [
              "BernoulliNB(alpha=1.0, binarize=0.0, class_prior=None, fit_prior=True)"
            ]
          },
          "metadata": {
            "tags": []
          },
          "execution_count": 80
        }
      ]
    },
    {
      "cell_type": "code",
      "metadata": {
        "id": "vpwHTMejH9Bh"
      },
      "source": [
        "\n",
        "# predict the labels on validation dataset\n",
        "predictions_NB = Naive.predict(unigram_X_test_inc)\n",
        "bigram_predictions_NB = bigram_Naive.predict(bigram_X_test_inc)\n",
        "trigram_predictions_NB = trigram_Naive.predict(trigram_X_test_inc)\n",
        "multigram_predictions_NB = multigram_Naive.predict(multigram_X_test_inc)\n",
        "\n",
        "\n",
        "\n"
      ],
      "execution_count": 81,
      "outputs": []
    },
    {
      "cell_type": "code",
      "metadata": {
        "id": "IwJtXrQoH9Bh",
        "colab": {
          "base_uri": "https://localhost:8080/"
        },
        "outputId": "39f38a39-e165-4ec1-a8c1-a860c0cf151f"
      },
      "source": [
        "\n",
        "#print(confusion_matrix(Test_X_Tfidf, Y_test))\n",
        "print(\"Naive Bayes Accuracy Score -> \",accuracy_score(predictions_NB, unigram_y_test_inc)*100)\n",
        "\n",
        "#print(confusion_matrix(Test_X_Tfidf, Y_test))\n",
        "print(\"Bi-gram Naive Bayes Accuracy Score -> \",accuracy_score(bigram_predictions_NB, bigram_y_test_inc)*100)\n",
        "\n",
        "print(\"Tri-gram Naive Bayes Accuracy Score -> \",accuracy_score(trigram_predictions_NB, trigram_y_test_inc)*100)\n",
        "\n",
        "print(\"Multi-gram Naive Bayes Accuracy Score -> \",accuracy_score(multigram_predictions_NB, multigram_y_test_inc)*100)\n",
        "\n",
        "\n"
      ],
      "execution_count": 82,
      "outputs": [
        {
          "output_type": "stream",
          "text": [
            "Naive Bayes Accuracy Score ->  80.76923076923077\n",
            "Bi-gram Naive Bayes Accuracy Score ->  75.96153846153845\n",
            "Tri-gram Naive Bayes Accuracy Score ->  59.61538461538461\n",
            "Multi-gram Naive Bayes Accuracy Score ->  59.61538461538461\n"
          ],
          "name": "stdout"
        }
      ]
    },
    {
      "cell_type": "code",
      "metadata": {
        "id": "INvkpI1AH9Bh",
        "colab": {
          "base_uri": "https://localhost:8080/"
        },
        "outputId": "44e307bc-cf5e-423c-ca12-380b7f8d1360"
      },
      "source": [
        "\n",
        "print(\"uni-gram classification report\")\n",
        "print(classification_report(unigram_y_test_inc,predictions_NB, digits=4))\n",
        "print(\"--------------------------------------\")\n",
        "print(\"Bi-gram classification report\")\n",
        "print(classification_report(bigram_y_test_inc,bigram_predictions_NB, digits=4))\n",
        "\n",
        "print(\"--------------------------------------\")\n",
        "print(\"Tri-gram classification report\")\n",
        "print(classification_report(trigram_y_test_inc,trigram_predictions_NB, digits=4))\n",
        "\n",
        "print(\"--------------------------------------\")\n",
        "print(\"Multi-gram classification report\")\n",
        "print(classification_report(multigram_y_test_inc,multigram_predictions_NB, digits=4))"
      ],
      "execution_count": 83,
      "outputs": [
        {
          "output_type": "stream",
          "text": [
            "uni-gram classification report\n",
            "              precision    recall  f1-score   support\n",
            "\n",
            "           0     0.7353    0.9615    0.8333       104\n",
            "           1     0.9444    0.6538    0.7727       104\n",
            "\n",
            "    accuracy                         0.8077       208\n",
            "   macro avg     0.8399    0.8077    0.8030       208\n",
            "weighted avg     0.8399    0.8077    0.8030       208\n",
            "\n",
            "--------------------------------------\n",
            "Bi-gram classification report\n",
            "              precision    recall  f1-score   support\n",
            "\n",
            "           0     0.6800    0.9808    0.8031       104\n",
            "           1     0.9655    0.5385    0.6914       104\n",
            "\n",
            "    accuracy                         0.7596       208\n",
            "   macro avg     0.8228    0.7596    0.7473       208\n",
            "weighted avg     0.8228    0.7596    0.7473       208\n",
            "\n",
            "--------------------------------------\n",
            "Tri-gram classification report\n",
            "              precision    recall  f1-score   support\n",
            "\n",
            "           0     0.5538    0.9904    0.7103       104\n",
            "           1     0.9545    0.2019    0.3333       104\n",
            "\n",
            "    accuracy                         0.5962       208\n",
            "   macro avg     0.7542    0.5962    0.5218       208\n",
            "weighted avg     0.7542    0.5962    0.5218       208\n",
            "\n",
            "--------------------------------------\n",
            "Multi-gram classification report\n",
            "              precision    recall  f1-score   support\n",
            "\n",
            "           0     0.5538    0.9904    0.7103       104\n",
            "           1     0.9545    0.2019    0.3333       104\n",
            "\n",
            "    accuracy                         0.5962       208\n",
            "   macro avg     0.7542    0.5962    0.5218       208\n",
            "weighted avg     0.7542    0.5962    0.5218       208\n",
            "\n"
          ],
          "name": "stdout"
        }
      ]
    },
    {
      "cell_type": "markdown",
      "metadata": {
        "id": "Ygd1tpV7H9Bh"
      },
      "source": [
        "### 3. Log Reg"
      ]
    },
    {
      "cell_type": "code",
      "metadata": {
        "id": "5OLGOBMcH9Bh"
      },
      "source": [
        "from sklearn.linear_model import SGDClassifier\n",
        "Log_Reg = SGDClassifier(loss='log', random_state=123)\n",
        "\n",
        "# Initialize the Logistic Regression classifier\n",
        "Log_Reg =SGDClassifier(loss='log', random_state=123)\n",
        "bigram_Log_Reg =SGDClassifier(loss='log', random_state=123)\n",
        "trigram_Log_Reg =SGDClassifier(loss='log', random_state=123)\n",
        "multigram_Log_Reg =SGDClassifier(loss='log', random_state=123)\n"
      ],
      "execution_count": 84,
      "outputs": []
    },
    {
      "cell_type": "code",
      "metadata": {
        "id": "0uRbHtxLE6sa",
        "colab": {
          "base_uri": "https://localhost:8080/"
        },
        "outputId": "4cdc7a90-6c3d-4010-a0d4-9a5d653d8bbf"
      },
      "source": [
        "\n",
        "# fit the training dataset on the Logistic Regression classifier\n",
        "Log_Reg.fit(unigram_X_train_inc, unigram_y_train_inc)\n",
        "bigram_Log_Reg.fit(bigram_X_train_inc, bigram_y_train_inc)\n",
        "trigram_Log_Reg.fit(trigram_X_train_inc, trigram_y_train_inc)\n",
        "multigram_Log_Reg.fit(multigram_X_train_inc, multigram_y_train_inc)"
      ],
      "execution_count": 85,
      "outputs": [
        {
          "output_type": "execute_result",
          "data": {
            "text/plain": [
              "SGDClassifier(alpha=0.0001, average=False, class_weight=None,\n",
              "              early_stopping=False, epsilon=0.1, eta0=0.0, fit_intercept=True,\n",
              "              l1_ratio=0.15, learning_rate='optimal', loss='log', max_iter=1000,\n",
              "              n_iter_no_change=5, n_jobs=None, penalty='l2', power_t=0.5,\n",
              "              random_state=123, shuffle=True, tol=0.001,\n",
              "              validation_fraction=0.1, verbose=0, warm_start=False)"
            ]
          },
          "metadata": {
            "tags": []
          },
          "execution_count": 85
        }
      ]
    },
    {
      "cell_type": "code",
      "metadata": {
        "id": "C9idUrdSH9Bh"
      },
      "source": [
        "# predict the labels on validation dataset\n",
        "predictions_Log_Reg = Log_Reg.predict(unigram_X_test_inc)\n",
        "bigram_predictions_Log_Reg = bigram_Log_Reg.predict(bigram_X_test_inc)\n",
        "trigram_predictions_Log_Reg = trigram_Log_Reg.predict(trigram_X_test_inc)\n",
        "multigram_predictions_Log_Reg = multigram_Log_Reg.predict(multigram_X_test_inc)"
      ],
      "execution_count": 86,
      "outputs": []
    },
    {
      "cell_type": "code",
      "metadata": {
        "id": "UjclHqtGH9Bh",
        "colab": {
          "base_uri": "https://localhost:8080/"
        },
        "outputId": "131cd363-72d2-4805-e2bd-927feb54de66"
      },
      "source": [
        "# print confusion matrix\n",
        "print(\"uni-gram classification report\")\n",
        "print(classification_report(unigram_y_test_inc,predictions_Log_Reg, digits=4))\n",
        "print(\"--------------------------------------\")\n",
        "print(\"Bi-gram classification report\")\n",
        "print(classification_report(bigram_y_test_inc,bigram_predictions_Log_Reg, digits=4))\n",
        "\n",
        "print(\"--------------------------------------\")\n",
        "print(\"Tri-gram classification report\")\n",
        "print(classification_report(trigram_y_test_inc,trigram_predictions_Log_Reg, digits=4))\n",
        "\n",
        "print(\"--------------------------------------\")\n",
        "print(\"Multi-gram classification report\")\n",
        "print(classification_report(multigram_y_test_inc,multigram_predictions_Log_Reg, digits=4))"
      ],
      "execution_count": 87,
      "outputs": [
        {
          "output_type": "stream",
          "text": [
            "uni-gram classification report\n",
            "              precision    recall  f1-score   support\n",
            "\n",
            "           0     0.8496    0.9231    0.8848       104\n",
            "           1     0.9158    0.8365    0.8744       104\n",
            "\n",
            "    accuracy                         0.8798       208\n",
            "   macro avg     0.8827    0.8798    0.8796       208\n",
            "weighted avg     0.8827    0.8798    0.8796       208\n",
            "\n",
            "--------------------------------------\n",
            "Bi-gram classification report\n",
            "              precision    recall  f1-score   support\n",
            "\n",
            "           0     0.8197    0.9615    0.8850       104\n",
            "           1     0.9535    0.7885    0.8632       104\n",
            "\n",
            "    accuracy                         0.8750       208\n",
            "   macro avg     0.8866    0.8750    0.8741       208\n",
            "weighted avg     0.8866    0.8750    0.8741       208\n",
            "\n",
            "--------------------------------------\n",
            "Tri-gram classification report\n",
            "              precision    recall  f1-score   support\n",
            "\n",
            "           0     0.5763    0.9808    0.7260       104\n",
            "           1     0.9355    0.2788    0.4296       104\n",
            "\n",
            "    accuracy                         0.6298       208\n",
            "   macro avg     0.7559    0.6298    0.5778       208\n",
            "weighted avg     0.7559    0.6298    0.5778       208\n",
            "\n",
            "--------------------------------------\n",
            "Multi-gram classification report\n",
            "              precision    recall  f1-score   support\n",
            "\n",
            "           0     0.5763    0.9808    0.7260       104\n",
            "           1     0.9355    0.2788    0.4296       104\n",
            "\n",
            "    accuracy                         0.6298       208\n",
            "   macro avg     0.7559    0.6298    0.5778       208\n",
            "weighted avg     0.7559    0.6298    0.5778       208\n",
            "\n"
          ],
          "name": "stdout"
        }
      ]
    },
    {
      "cell_type": "code",
      "metadata": {
        "id": "XJRQKPtdH9Bh"
      },
      "source": [
        ""
      ],
      "execution_count": 87,
      "outputs": []
    }
  ]
}